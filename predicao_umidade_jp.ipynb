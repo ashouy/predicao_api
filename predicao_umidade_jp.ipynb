{
  "nbformat": 4,
  "nbformat_minor": 0,
  "metadata": {
    "colab": {
      "name": "predicao_umidade_jp.ipynb",
      "provenance": [],
      "collapsed_sections": [],
      "toc_visible": true,
      "include_colab_link": true
    },
    "kernelspec": {
      "name": "python3",
      "display_name": "Python 3"
    },
    "language_info": {
      "name": "python"
    }
  },
  "cells": [
    {
      "cell_type": "markdown",
      "metadata": {
        "id": "view-in-github",
        "colab_type": "text"
      },
      "source": [
        "<a href=\"https://colab.research.google.com/github/ashouy/predicao_api/blob/master/predicao_umidade_jp.ipynb\" target=\"_parent\"><img src=\"https://colab.research.google.com/assets/colab-badge.svg\" alt=\"Open In Colab\"/></a>"
      ]
    },
    {
      "cell_type": "markdown",
      "source": [
        "# Treinamento das bases iniciais"
      ],
      "metadata": {
        "id": "VN7j0WOqvusw"
      }
    },
    {
      "cell_type": "markdown",
      "source": [
        "## Importações necessárias"
      ],
      "metadata": {
        "id": "QNxvmzHwPfry"
      }
    },
    {
      "cell_type": "code",
      "source": [
        "## importações necessárias\n",
        "\n",
        "import pandas as pd\n",
        "import matplotlib.pyplot as plt\n",
        "import seaborn as sns\n",
        "from datetime import datetime\n",
        "import numpy as np\n",
        "from sklearn.model_selection import train_test_split\n",
        "from sklearn.model_selection import StratifiedKFold\n",
        "from sklearn import metrics\n",
        "from sklearn.model_selection import GridSearchCV\n",
        "from sklearn.neural_network import MLPClassifier\n",
        "\n",
        "param_grid = {\n",
        "    'hidden_layer_sizes': [(100, ), (7,)], #default e heurístico\n",
        "    'activation': ['identity', 'logistic', 'tanh', 'relu'],\n",
        "    'learning_rate_init': [0.001, 0.01, 0.1],\n",
        "    'max_iter': [200, 1000, 5000, 10000]\n",
        "}"
      ],
      "metadata": {
        "id": "7gBt86WHPlje"
      },
      "execution_count": 61,
      "outputs": []
    },
    {
      "cell_type": "markdown",
      "source": [
        "## Classe runmodel\n"
      ],
      "metadata": {
        "id": "fSN18qKZM6q3"
      }
    },
    {
      "cell_type": "code",
      "source": [
        "\n",
        "class runmodel:\n",
        "  '''\n",
        "    Parâmetros de entrada:\n",
        "\n",
        "    X: atributos de entradas\n",
        "    y: atributo alvo\n",
        "    model: algoritmo para construção do estimador\n",
        "    cv: se None faz N holdouts, se int faz validação cruzada (ambos com estratificação por classe)\n",
        "    n = quantidade de repetições da amostragem\n",
        "\n",
        "    Guardar as métricas de cada execução (armazenametricas) e \n",
        "    Mostrar os valores médios com desvio padrão para as métricas (mostraresultadomedio) \n",
        "\n",
        "    Se dataset tiver mais de 2 classes, adaptar resultados    \n",
        "  '''\n",
        "\n",
        "  def __init__(self, X, y, model, cv = None, n = 1):\n",
        "    \n",
        "    self.__resultados = {\n",
        "      'precision_0': [],\n",
        "      'recall_0': [],\n",
        "      'f1_0': [],\n",
        "      'support_0': [],\n",
        "      'precision_1': [],\n",
        "      'recall_1': [],\n",
        "      'f1_1': [],\n",
        "      'support_1' : [],\n",
        "      'accuracy' : [],\n",
        "      'precision_wavg' : [],\n",
        "      'recall_wavg' : [],\n",
        "      'f1_wavg' : [],\n",
        "      'support_wavg' : []\n",
        "    }\n",
        "\n",
        "    if cv is None:\n",
        "      print(f'{n} holdouts')\n",
        "      for i in range(n):\n",
        "        self.__avaliamodelo(X, y, model)\n",
        "    \n",
        "    else:\n",
        "      print(f'{n} validação cruzada com {cv} folds')\n",
        "      for i in range(n):\n",
        "        self.__avaliamodelo_cv(X, y, model, cv)\n",
        "\n",
        "  @property\n",
        "  def resultados(self):\n",
        "    return self.__resultados\n",
        "\n",
        "  def __avaliamodelo(self, X, y, model):\n",
        "    #gera as amostras de treino (2/3) e teste (1/3) com estratificação por classe\n",
        "    X_train, X_test, y_train, y_test = train_test_split(X, y, test_size=0.33, stratify = y)\n",
        "    # Treina o modelo usando os dados de treino\n",
        "    model.fit(X_train,y_train)\n",
        "    # Testa modelo usando os dados de teste\n",
        "    pred = model.predict(X_test)\n",
        "    #armazena resultado\n",
        "    self.__armazenametricas(metrics.classification_report(y_test,pred, output_dict= True))\n",
        "\n",
        "  def __avaliamodelo_cv(self, X, y, model, cv):\n",
        "    #gera as amostras para cv folds com embaralhamento (permite fazer várias validações cruzadas)\n",
        "    skf = StratifiedKFold(shuffle=True, n_splits=cv)\n",
        "    #para cada fold: treina, testa e armazena os resultados\n",
        "    for train_index, test_index in skf.split(X, y):\n",
        "      model.fit(X.iloc[train_index], y.iloc[train_index])\n",
        "      pred = model.predict(X.iloc[test_index])\n",
        "      self.__armazenametricas(metrics.classification_report(y.iloc[test_index], pred, output_dict= True))\n",
        "\n",
        "  def __armazenametricas(self, d):\n",
        "    self.__resultados['precision_0'].append(d['0']['precision'])\n",
        "    self.__resultados['recall_0'].append(d['0']['recall'])\n",
        "    self.__resultados['f1_0'].append(d['0']['f1-score'])\n",
        "    self.__resultados['support_0'].append(d['0']['support'])\n",
        "\n",
        "    self.__resultados['precision_1'].append(d['1']['precision'])\n",
        "    self.__resultados['recall_1'].append(d['1']['recall'])\n",
        "    self.__resultados['f1_1'].append(d['1']['f1-score'])\n",
        "    self.__resultados['support_1'].append(d['1']['support'])\n",
        "\n",
        "    self.__resultados['accuracy'].append(d['accuracy'])\n",
        "    \n",
        "    self.__resultados['precision_wavg'].append(d['weighted avg']['precision'])\n",
        "    self.__resultados['recall_wavg'].append(d['weighted avg']['recall'])\n",
        "    self.__resultados['f1_wavg'].append(d['weighted avg']['f1-score'])\n",
        "    self.__resultados['support_wavg'].append(d['weighted avg']['support'])\n",
        "\n",
        "  def mostraresultadomedio(self):\n",
        "    print(f\"\\t\\t precision \\t recall \\t f1-score \\t support\\n\")\n",
        "    print(f\"0 \\t\\t {round(np.mean(self.__resultados['precision_0']), 2)}({round(np.std(self.__resultados['precision_0']),2)}) \\t {round(np.mean(self.__resultados['recall_0']),2)}({round(np.std(self.__resultados['recall_0']),2)}) \\t {round(np.mean(self.__resultados['f1_0']),2)}({round(np.std(self.__resultados['f1_0']),2)}) \\t {round(np.mean(self.__resultados['support_0']),2)}({round(np.std(self.__resultados['support_0']),2)})\\n\")\n",
        "    print(f\"1 \\t\\t {round(np.mean(self.__resultados['precision_1']), 2)}({round(np.std(self.__resultados['precision_1']),2)}) \\t {round(np.mean(self.__resultados['recall_1']),2)}({round(np.std(self.__resultados['recall_1']),2)}) \\t {round(np.mean(self.__resultados['f1_1']),2)}({round(np.std(self.__resultados['f1_1']),2)}) \\t {round(np.mean(self.__resultados['support_1']),2)}({round(np.std(self.__resultados['support_1']),2)})\\n\")\n",
        "    print(f\"accuracy \\t\\t  \\t\\t  \\t {round(np.mean(self.__resultados['accuracy']), 2)}({round(np.std(self.__resultados['accuracy']),2)}) \\t\\t \\n\")\n",
        "    print(f\"weighted avg \\t {round(np.mean(self.__resultados['precision_wavg']), 2)}({round(np.std(self.__resultados['precision_wavg']),2)}) \\t {round(np.mean(self.__resultados['recall_wavg']),2)}({round(np.std(self.__resultados['recall_wavg']),2)}) \\t {round(np.mean(self.__resultados['f1_wavg']),2)}({round(np.std(self.__resultados['f1_wavg']),2)}) \\t {round(np.mean(self.__resultados['support_wavg']),2)}({round(np.std(self.__resultados['support_wavg']),2)})\\n\")"
      ],
      "metadata": {
        "id": "MpV_doxNJZ8-"
      },
      "execution_count": 7,
      "outputs": []
    },
    {
      "cell_type": "markdown",
      "source": [
        "## Base 24 horas\n"
      ],
      "metadata": {
        "id": "l8NCqN6yJS5l"
      }
    },
    {
      "cell_type": "code",
      "source": [
        "#Apresentação\n",
        "\n",
        "base24 = pd.read_csv(\"https://raw.githubusercontent.com/ashouy/predicao_api/master/bases_iniciais/base24h.csv\")\n",
        "\n",
        "\n",
        "base24.describe()"
      ],
      "metadata": {
        "colab": {
          "base_uri": "https://localhost:8080/",
          "height": 300
        },
        "id": "a5Zek5g6Jjhw",
        "outputId": "2a35b778-87df-46e2-c2a0-2ebbbfccdb84"
      },
      "execution_count": 23,
      "outputs": [
        {
          "output_type": "execute_result",
          "data": {
            "text/html": [
              "\n",
              "  <div id=\"df-f2c44407-5e0d-411a-83fe-788f5f206802\">\n",
              "    <div class=\"colab-df-container\">\n",
              "      <div>\n",
              "<style scoped>\n",
              "    .dataframe tbody tr th:only-of-type {\n",
              "        vertical-align: middle;\n",
              "    }\n",
              "\n",
              "    .dataframe tbody tr th {\n",
              "        vertical-align: top;\n",
              "    }\n",
              "\n",
              "    .dataframe thead th {\n",
              "        text-align: right;\n",
              "    }\n",
              "</style>\n",
              "<table border=\"1\" class=\"dataframe\">\n",
              "  <thead>\n",
              "    <tr style=\"text-align: right;\">\n",
              "      <th></th>\n",
              "      <th>hora_em_minutos</th>\n",
              "      <th>temperatura_real</th>\n",
              "      <th>umidade_real</th>\n",
              "    </tr>\n",
              "  </thead>\n",
              "  <tbody>\n",
              "    <tr>\n",
              "      <th>count</th>\n",
              "      <td>1440.000000</td>\n",
              "      <td>1440.000000</td>\n",
              "      <td>1440.000000</td>\n",
              "    </tr>\n",
              "    <tr>\n",
              "      <th>mean</th>\n",
              "      <td>720.327083</td>\n",
              "      <td>29.163194</td>\n",
              "      <td>70.128472</td>\n",
              "    </tr>\n",
              "    <tr>\n",
              "      <th>std</th>\n",
              "      <td>409.914479</td>\n",
              "      <td>0.391580</td>\n",
              "      <td>2.626273</td>\n",
              "    </tr>\n",
              "    <tr>\n",
              "      <th>min</th>\n",
              "      <td>0.000000</td>\n",
              "      <td>28.000000</td>\n",
              "      <td>63.000000</td>\n",
              "    </tr>\n",
              "    <tr>\n",
              "      <th>25%</th>\n",
              "      <td>372.750000</td>\n",
              "      <td>29.000000</td>\n",
              "      <td>68.000000</td>\n",
              "    </tr>\n",
              "    <tr>\n",
              "      <th>50%</th>\n",
              "      <td>723.000000</td>\n",
              "      <td>29.000000</td>\n",
              "      <td>71.000000</td>\n",
              "    </tr>\n",
              "    <tr>\n",
              "      <th>75%</th>\n",
              "      <td>1069.250000</td>\n",
              "      <td>29.000000</td>\n",
              "      <td>72.000000</td>\n",
              "    </tr>\n",
              "    <tr>\n",
              "      <th>max</th>\n",
              "      <td>1439.000000</td>\n",
              "      <td>30.000000</td>\n",
              "      <td>77.000000</td>\n",
              "    </tr>\n",
              "  </tbody>\n",
              "</table>\n",
              "</div>\n",
              "      <button class=\"colab-df-convert\" onclick=\"convertToInteractive('df-f2c44407-5e0d-411a-83fe-788f5f206802')\"\n",
              "              title=\"Convert this dataframe to an interactive table.\"\n",
              "              style=\"display:none;\">\n",
              "        \n",
              "  <svg xmlns=\"http://www.w3.org/2000/svg\" height=\"24px\"viewBox=\"0 0 24 24\"\n",
              "       width=\"24px\">\n",
              "    <path d=\"M0 0h24v24H0V0z\" fill=\"none\"/>\n",
              "    <path d=\"M18.56 5.44l.94 2.06.94-2.06 2.06-.94-2.06-.94-.94-2.06-.94 2.06-2.06.94zm-11 1L8.5 8.5l.94-2.06 2.06-.94-2.06-.94L8.5 2.5l-.94 2.06-2.06.94zm10 10l.94 2.06.94-2.06 2.06-.94-2.06-.94-.94-2.06-.94 2.06-2.06.94z\"/><path d=\"M17.41 7.96l-1.37-1.37c-.4-.4-.92-.59-1.43-.59-.52 0-1.04.2-1.43.59L10.3 9.45l-7.72 7.72c-.78.78-.78 2.05 0 2.83L4 21.41c.39.39.9.59 1.41.59.51 0 1.02-.2 1.41-.59l7.78-7.78 2.81-2.81c.8-.78.8-2.07 0-2.86zM5.41 20L4 18.59l7.72-7.72 1.47 1.35L5.41 20z\"/>\n",
              "  </svg>\n",
              "      </button>\n",
              "      \n",
              "  <style>\n",
              "    .colab-df-container {\n",
              "      display:flex;\n",
              "      flex-wrap:wrap;\n",
              "      gap: 12px;\n",
              "    }\n",
              "\n",
              "    .colab-df-convert {\n",
              "      background-color: #E8F0FE;\n",
              "      border: none;\n",
              "      border-radius: 50%;\n",
              "      cursor: pointer;\n",
              "      display: none;\n",
              "      fill: #1967D2;\n",
              "      height: 32px;\n",
              "      padding: 0 0 0 0;\n",
              "      width: 32px;\n",
              "    }\n",
              "\n",
              "    .colab-df-convert:hover {\n",
              "      background-color: #E2EBFA;\n",
              "      box-shadow: 0px 1px 2px rgba(60, 64, 67, 0.3), 0px 1px 3px 1px rgba(60, 64, 67, 0.15);\n",
              "      fill: #174EA6;\n",
              "    }\n",
              "\n",
              "    [theme=dark] .colab-df-convert {\n",
              "      background-color: #3B4455;\n",
              "      fill: #D2E3FC;\n",
              "    }\n",
              "\n",
              "    [theme=dark] .colab-df-convert:hover {\n",
              "      background-color: #434B5C;\n",
              "      box-shadow: 0px 1px 3px 1px rgba(0, 0, 0, 0.15);\n",
              "      filter: drop-shadow(0px 1px 2px rgba(0, 0, 0, 0.3));\n",
              "      fill: #FFFFFF;\n",
              "    }\n",
              "  </style>\n",
              "\n",
              "      <script>\n",
              "        const buttonEl =\n",
              "          document.querySelector('#df-f2c44407-5e0d-411a-83fe-788f5f206802 button.colab-df-convert');\n",
              "        buttonEl.style.display =\n",
              "          google.colab.kernel.accessAllowed ? 'block' : 'none';\n",
              "\n",
              "        async function convertToInteractive(key) {\n",
              "          const element = document.querySelector('#df-f2c44407-5e0d-411a-83fe-788f5f206802');\n",
              "          const dataTable =\n",
              "            await google.colab.kernel.invokeFunction('convertToInteractive',\n",
              "                                                     [key], {});\n",
              "          if (!dataTable) return;\n",
              "\n",
              "          const docLinkHtml = 'Like what you see? Visit the ' +\n",
              "            '<a target=\"_blank\" href=https://colab.research.google.com/notebooks/data_table.ipynb>data table notebook</a>'\n",
              "            + ' to learn more about interactive tables.';\n",
              "          element.innerHTML = '';\n",
              "          dataTable['output_type'] = 'display_data';\n",
              "          await google.colab.output.renderOutput(dataTable, element);\n",
              "          const docLink = document.createElement('div');\n",
              "          docLink.innerHTML = docLinkHtml;\n",
              "          element.appendChild(docLink);\n",
              "        }\n",
              "      </script>\n",
              "    </div>\n",
              "  </div>\n",
              "  "
            ],
            "text/plain": [
              "        hora_em_minutos   temperatura_real  umidade_real\n",
              "count       1440.000000        1440.000000   1440.000000\n",
              "mean         720.327083          29.163194     70.128472\n",
              "std          409.914479           0.391580      2.626273\n",
              "min            0.000000          28.000000     63.000000\n",
              "25%          372.750000          29.000000     68.000000\n",
              "50%          723.000000          29.000000     71.000000\n",
              "75%         1069.250000          29.000000     72.000000\n",
              "max         1439.000000          30.000000     77.000000"
            ]
          },
          "metadata": {},
          "execution_count": 23
        }
      ]
    },
    {
      "cell_type": "code",
      "source": [
        "base24Temperatura = base24.drop(columns=['umidade_real','data'], axis=1)\n",
        "base24Umidade = base24.drop(columns=[' temperatura_real','data'], axis=1)\n",
        "\n",
        "print(base24Umidade.head())\n",
        "print(base24Temperatura.head())\n"
      ],
      "metadata": {
        "colab": {
          "base_uri": "https://localhost:8080/"
        },
        "id": "3mNc7DtFR3im",
        "outputId": "f36e8db8-4c64-40a6-d735-20e5eb6a9496"
      },
      "execution_count": 44,
      "outputs": [
        {
          "output_type": "stream",
          "name": "stdout",
          "text": [
            "    hora_em_minutos  umidade_real\n",
            "0               705            63\n",
            "1               706            68\n",
            "2               707            70\n",
            "3               707            65\n",
            "4               708            66\n",
            "    hora_em_minutos   temperatura_real\n",
            "0               705               29.0\n",
            "1               706               29.0\n",
            "2               707               29.0\n",
            "3               707               29.0\n",
            "4               708               29.0\n"
          ]
        }
      ]
    },
    {
      "cell_type": "markdown",
      "source": [
        "### grid umidade 24h"
      ],
      "metadata": {
        "id": "miUNBieIi-tw"
      }
    },
    {
      "cell_type": "code",
      "source": [
        "X_train_umidade24, X_test_umidade24, y_train_umidade24, y_test_umidade24 = train_test_split(base24Umidade.drop(columns=['umidade_real']), base24Umidade['umidade_real'],test_size=0.33)\n",
        "grid_umidade24 = GridSearchCV(MLPClassifier(),param_grid, verbose = 1)\n",
        "\n",
        "grid_umidade24.fit(X_train_umidade24,y_train_umidade24)\n"
      ],
      "metadata": {
        "id": "_bdMwApWXJ88"
      },
      "execution_count": null,
      "outputs": []
    },
    {
      "cell_type": "code",
      "source": [
        "grid_umidade24.best_params_"
      ],
      "metadata": {
        "colab": {
          "base_uri": "https://localhost:8080/"
        },
        "id": "2tWf1_criI5H",
        "outputId": "f7afb6b1-76e6-4e97-ccae-68d9e736fc57"
      },
      "execution_count": 52,
      "outputs": [
        {
          "output_type": "execute_result",
          "data": {
            "text/plain": [
              "{'activation': 'logistic',\n",
              " 'hidden_layer_sizes': (100,),\n",
              " 'learning_rate_init': 0.001,\n",
              " 'max_iter': 5000}"
            ]
          },
          "metadata": {},
          "execution_count": 52
        }
      ]
    },
    {
      "cell_type": "code",
      "source": [
        "grid_umidade24.best_score_"
      ],
      "metadata": {
        "colab": {
          "base_uri": "https://localhost:8080/"
        },
        "id": "NIG5FsErec7W",
        "outputId": "5efac0fd-3338-40dc-f245-04f39c45c9f9"
      },
      "execution_count": 48,
      "outputs": [
        {
          "output_type": "execute_result",
          "data": {
            "text/plain": [
              "0.5301165803108809"
            ]
          },
          "metadata": {},
          "execution_count": 48
        }
      ]
    },
    {
      "cell_type": "code",
      "source": [
        "pred_umidade24 = grid_umidade24.predict(X_test_umidade24)\n",
        "print(metrics.classification_report(y_test_umidade24,pred_umidade24))"
      ],
      "metadata": {
        "colab": {
          "base_uri": "https://localhost:8080/"
        },
        "id": "dqOn7uy1eoWB",
        "outputId": "9ecafcb3-d5fa-4db1-91b4-c0e4f5a7a6d3"
      },
      "execution_count": 49,
      "outputs": [
        {
          "output_type": "stream",
          "name": "stdout",
          "text": [
            "              precision    recall  f1-score   support\n",
            "\n",
            "          64       0.00      0.00      0.00        14\n",
            "          65       0.00      0.00      0.00        18\n",
            "          66       0.34      0.73      0.46        37\n",
            "          67       0.22      0.41      0.28        27\n",
            "          68       0.00      0.00      0.00        38\n",
            "          69       0.26      0.64      0.37        33\n",
            "          70       0.67      0.18      0.28        57\n",
            "          71       0.51      0.37      0.43        51\n",
            "          72       0.58      0.88      0.70       137\n",
            "          73       0.67      0.05      0.10        37\n",
            "          74       0.00      0.00      0.00        10\n",
            "          75       0.00      0.00      0.00         6\n",
            "          76       0.00      0.00      0.00         8\n",
            "          77       0.00      0.00      0.00         3\n",
            "\n",
            "    accuracy                           0.44       476\n",
            "   macro avg       0.23      0.23      0.19       476\n",
            "weighted avg       0.41      0.44      0.37       476\n",
            "\n"
          ]
        },
        {
          "output_type": "stream",
          "name": "stderr",
          "text": [
            "/usr/local/lib/python3.7/dist-packages/sklearn/metrics/_classification.py:1318: UndefinedMetricWarning: Precision and F-score are ill-defined and being set to 0.0 in labels with no predicted samples. Use `zero_division` parameter to control this behavior.\n",
            "  _warn_prf(average, modifier, msg_start, len(result))\n",
            "/usr/local/lib/python3.7/dist-packages/sklearn/metrics/_classification.py:1318: UndefinedMetricWarning: Precision and F-score are ill-defined and being set to 0.0 in labels with no predicted samples. Use `zero_division` parameter to control this behavior.\n",
            "  _warn_prf(average, modifier, msg_start, len(result))\n",
            "/usr/local/lib/python3.7/dist-packages/sklearn/metrics/_classification.py:1318: UndefinedMetricWarning: Precision and F-score are ill-defined and being set to 0.0 in labels with no predicted samples. Use `zero_division` parameter to control this behavior.\n",
            "  _warn_prf(average, modifier, msg_start, len(result))\n"
          ]
        }
      ]
    },
    {
      "cell_type": "markdown",
      "source": [
        "### grid temperatura 24h"
      ],
      "metadata": {
        "id": "EhxijdytkfY-"
      }
    },
    {
      "cell_type": "code",
      "source": [
        "X_train_temperatura24, X_test_temperatura24, y_train_temperatura24, y_test_temperatura24 = train_test_split(base24Temperatura.drop(columns=[' temperatura_real']), base24Temperatura[' temperatura_real'],test_size=0.33)\n",
        "\n",
        "grid_temperatura24 = GridSearchCV(MLPClassifier(),param_grid, verbose = 1)\n",
        "\n",
        "grid_temperatura24.fit(X_train_temperatura24,y_train_temperatura24)"
      ],
      "metadata": {
        "colab": {
          "base_uri": "https://localhost:8080/"
        },
        "id": "ZrMxBee2b-Pq",
        "outputId": "9fd8f1ed-71fe-4a98-f140-11c8ad540bf8"
      },
      "execution_count": 53,
      "outputs": [
        {
          "output_type": "stream",
          "name": "stdout",
          "text": [
            "Fitting 5 folds for each of 96 candidates, totalling 480 fits\n"
          ]
        },
        {
          "output_type": "stream",
          "name": "stderr",
          "text": [
            "/usr/local/lib/python3.7/dist-packages/sklearn/neural_network/_multilayer_perceptron.py:696: ConvergenceWarning: Stochastic Optimizer: Maximum iterations (200) reached and the optimization hasn't converged yet.\n",
            "  ConvergenceWarning,\n",
            "/usr/local/lib/python3.7/dist-packages/sklearn/neural_network/_multilayer_perceptron.py:696: ConvergenceWarning: Stochastic Optimizer: Maximum iterations (200) reached and the optimization hasn't converged yet.\n",
            "  ConvergenceWarning,\n",
            "/usr/local/lib/python3.7/dist-packages/sklearn/neural_network/_multilayer_perceptron.py:696: ConvergenceWarning: Stochastic Optimizer: Maximum iterations (200) reached and the optimization hasn't converged yet.\n",
            "  ConvergenceWarning,\n",
            "/usr/local/lib/python3.7/dist-packages/sklearn/neural_network/_multilayer_perceptron.py:696: ConvergenceWarning: Stochastic Optimizer: Maximum iterations (200) reached and the optimization hasn't converged yet.\n",
            "  ConvergenceWarning,\n",
            "/usr/local/lib/python3.7/dist-packages/sklearn/neural_network/_multilayer_perceptron.py:696: ConvergenceWarning: Stochastic Optimizer: Maximum iterations (200) reached and the optimization hasn't converged yet.\n",
            "  ConvergenceWarning,\n",
            "/usr/local/lib/python3.7/dist-packages/sklearn/neural_network/_multilayer_perceptron.py:696: ConvergenceWarning: Stochastic Optimizer: Maximum iterations (200) reached and the optimization hasn't converged yet.\n",
            "  ConvergenceWarning,\n",
            "/usr/local/lib/python3.7/dist-packages/sklearn/neural_network/_multilayer_perceptron.py:696: ConvergenceWarning: Stochastic Optimizer: Maximum iterations (200) reached and the optimization hasn't converged yet.\n",
            "  ConvergenceWarning,\n",
            "/usr/local/lib/python3.7/dist-packages/sklearn/neural_network/_multilayer_perceptron.py:696: ConvergenceWarning: Stochastic Optimizer: Maximum iterations (200) reached and the optimization hasn't converged yet.\n",
            "  ConvergenceWarning,\n",
            "/usr/local/lib/python3.7/dist-packages/sklearn/neural_network/_multilayer_perceptron.py:696: ConvergenceWarning: Stochastic Optimizer: Maximum iterations (200) reached and the optimization hasn't converged yet.\n",
            "  ConvergenceWarning,\n",
            "/usr/local/lib/python3.7/dist-packages/sklearn/neural_network/_multilayer_perceptron.py:696: ConvergenceWarning: Stochastic Optimizer: Maximum iterations (200) reached and the optimization hasn't converged yet.\n",
            "  ConvergenceWarning,\n",
            "/usr/local/lib/python3.7/dist-packages/sklearn/neural_network/_multilayer_perceptron.py:696: ConvergenceWarning: Stochastic Optimizer: Maximum iterations (200) reached and the optimization hasn't converged yet.\n",
            "  ConvergenceWarning,\n",
            "/usr/local/lib/python3.7/dist-packages/sklearn/neural_network/_multilayer_perceptron.py:696: ConvergenceWarning: Stochastic Optimizer: Maximum iterations (200) reached and the optimization hasn't converged yet.\n",
            "  ConvergenceWarning,\n",
            "/usr/local/lib/python3.7/dist-packages/sklearn/neural_network/_multilayer_perceptron.py:696: ConvergenceWarning: Stochastic Optimizer: Maximum iterations (200) reached and the optimization hasn't converged yet.\n",
            "  ConvergenceWarning,\n",
            "/usr/local/lib/python3.7/dist-packages/sklearn/neural_network/_multilayer_perceptron.py:696: ConvergenceWarning: Stochastic Optimizer: Maximum iterations (200) reached and the optimization hasn't converged yet.\n",
            "  ConvergenceWarning,\n"
          ]
        },
        {
          "output_type": "execute_result",
          "data": {
            "text/plain": [
              "GridSearchCV(estimator=MLPClassifier(),\n",
              "             param_grid={'activation': ['identity', 'logistic', 'tanh', 'relu'],\n",
              "                         'hidden_layer_sizes': [(100,), (7,)],\n",
              "                         'learning_rate_init': [0.001, 0.01, 0.1],\n",
              "                         'max_iter': [200, 1000, 5000, 10000]},\n",
              "             verbose=1)"
            ]
          },
          "metadata": {},
          "execution_count": 53
        }
      ]
    },
    {
      "cell_type": "code",
      "source": [
        "grid_temperatura24.best_params_"
      ],
      "metadata": {
        "colab": {
          "base_uri": "https://localhost:8080/"
        },
        "id": "mgdqxB-NjLo2",
        "outputId": "cbe78445-0915-4c01-b775-cefeef5a2759"
      },
      "execution_count": 54,
      "outputs": [
        {
          "output_type": "execute_result",
          "data": {
            "text/plain": [
              "{'activation': 'identity',\n",
              " 'hidden_layer_sizes': (100,),\n",
              " 'learning_rate_init': 0.001,\n",
              " 'max_iter': 5000}"
            ]
          },
          "metadata": {},
          "execution_count": 54
        }
      ]
    },
    {
      "cell_type": "code",
      "source": [
        "grid_temperatura24.best_score_"
      ],
      "metadata": {
        "colab": {
          "base_uri": "https://localhost:8080/"
        },
        "id": "5ZVbS_OJjQSn",
        "outputId": "dc4b17a2-1698-4f24-ff4d-84dcdeb08ff4"
      },
      "execution_count": 55,
      "outputs": [
        {
          "output_type": "execute_result",
          "data": {
            "text/plain": [
              "0.8246923575129534"
            ]
          },
          "metadata": {},
          "execution_count": 55
        }
      ]
    },
    {
      "cell_type": "code",
      "source": [
        "pred_temperatura24 = grid_temperatura24.predict(X_test_temperatura24)\n",
        "print(metrics.classification_report(y_test_temperatura24,pred_temperatura24))"
      ],
      "metadata": {
        "colab": {
          "base_uri": "https://localhost:8080/"
        },
        "id": "FaCzjN_PjWrE",
        "outputId": "562279f0-dda4-43ba-dc5b-bce4d22bbfed"
      },
      "execution_count": 57,
      "outputs": [
        {
          "output_type": "stream",
          "name": "stdout",
          "text": [
            "              precision    recall  f1-score   support\n",
            "\n",
            "        28.0       0.00      0.00      0.00         5\n",
            "        29.0       0.81      1.00      0.90       386\n",
            "        30.0       0.00      0.00      0.00        85\n",
            "\n",
            "    accuracy                           0.81       476\n",
            "   macro avg       0.27      0.33      0.30       476\n",
            "weighted avg       0.66      0.81      0.73       476\n",
            "\n"
          ]
        },
        {
          "output_type": "stream",
          "name": "stderr",
          "text": [
            "/usr/local/lib/python3.7/dist-packages/sklearn/metrics/_classification.py:1318: UndefinedMetricWarning: Precision and F-score are ill-defined and being set to 0.0 in labels with no predicted samples. Use `zero_division` parameter to control this behavior.\n",
            "  _warn_prf(average, modifier, msg_start, len(result))\n",
            "/usr/local/lib/python3.7/dist-packages/sklearn/metrics/_classification.py:1318: UndefinedMetricWarning: Precision and F-score are ill-defined and being set to 0.0 in labels with no predicted samples. Use `zero_division` parameter to control this behavior.\n",
            "  _warn_prf(average, modifier, msg_start, len(result))\n",
            "/usr/local/lib/python3.7/dist-packages/sklearn/metrics/_classification.py:1318: UndefinedMetricWarning: Precision and F-score are ill-defined and being set to 0.0 in labels with no predicted samples. Use `zero_division` parameter to control this behavior.\n",
            "  _warn_prf(average, modifier, msg_start, len(result))\n"
          ]
        }
      ]
    },
    {
      "cell_type": "markdown",
      "source": [
        "## Base 48 horas"
      ],
      "metadata": {
        "id": "nDVYNARMlVFf"
      }
    },
    {
      "cell_type": "code",
      "source": [
        "#Apresentação\n",
        "\n",
        "base48 = pd.read_csv(\"https://raw.githubusercontent.com/ashouy/predicao_api/master/bases_iniciais/base48h.csv\")\n",
        "\n",
        "\n",
        "base48.describe()"
      ],
      "metadata": {
        "colab": {
          "base_uri": "https://localhost:8080/",
          "height": 300
        },
        "id": "tzGXMtUhliSF",
        "outputId": "a820897e-843d-4f8a-bc8d-2a370af8454b"
      },
      "execution_count": 59,
      "outputs": [
        {
          "output_type": "execute_result",
          "data": {
            "text/html": [
              "\n",
              "  <div id=\"df-6fffd684-e040-40d1-bace-b4e3491485d0\">\n",
              "    <div class=\"colab-df-container\">\n",
              "      <div>\n",
              "<style scoped>\n",
              "    .dataframe tbody tr th:only-of-type {\n",
              "        vertical-align: middle;\n",
              "    }\n",
              "\n",
              "    .dataframe tbody tr th {\n",
              "        vertical-align: top;\n",
              "    }\n",
              "\n",
              "    .dataframe thead th {\n",
              "        text-align: right;\n",
              "    }\n",
              "</style>\n",
              "<table border=\"1\" class=\"dataframe\">\n",
              "  <thead>\n",
              "    <tr style=\"text-align: right;\">\n",
              "      <th></th>\n",
              "      <th>hora_em_minutos</th>\n",
              "      <th>temperatura_real</th>\n",
              "      <th>umidade_real</th>\n",
              "    </tr>\n",
              "  </thead>\n",
              "  <tbody>\n",
              "    <tr>\n",
              "      <th>count</th>\n",
              "      <td>2880.000000</td>\n",
              "      <td>2880.000000</td>\n",
              "      <td>2880.000000</td>\n",
              "    </tr>\n",
              "    <tr>\n",
              "      <th>mean</th>\n",
              "      <td>723.573958</td>\n",
              "      <td>28.970486</td>\n",
              "      <td>69.412500</td>\n",
              "    </tr>\n",
              "    <tr>\n",
              "      <th>std</th>\n",
              "      <td>408.389202</td>\n",
              "      <td>0.545432</td>\n",
              "      <td>2.404115</td>\n",
              "    </tr>\n",
              "    <tr>\n",
              "      <th>min</th>\n",
              "      <td>0.000000</td>\n",
              "      <td>27.000000</td>\n",
              "      <td>61.000000</td>\n",
              "    </tr>\n",
              "    <tr>\n",
              "      <th>25%</th>\n",
              "      <td>378.000000</td>\n",
              "      <td>29.000000</td>\n",
              "      <td>68.000000</td>\n",
              "    </tr>\n",
              "    <tr>\n",
              "      <th>50%</th>\n",
              "      <td>733.000000</td>\n",
              "      <td>29.000000</td>\n",
              "      <td>69.000000</td>\n",
              "    </tr>\n",
              "    <tr>\n",
              "      <th>75%</th>\n",
              "      <td>1069.250000</td>\n",
              "      <td>29.000000</td>\n",
              "      <td>71.000000</td>\n",
              "    </tr>\n",
              "    <tr>\n",
              "      <th>max</th>\n",
              "      <td>1439.000000</td>\n",
              "      <td>31.000000</td>\n",
              "      <td>77.000000</td>\n",
              "    </tr>\n",
              "  </tbody>\n",
              "</table>\n",
              "</div>\n",
              "      <button class=\"colab-df-convert\" onclick=\"convertToInteractive('df-6fffd684-e040-40d1-bace-b4e3491485d0')\"\n",
              "              title=\"Convert this dataframe to an interactive table.\"\n",
              "              style=\"display:none;\">\n",
              "        \n",
              "  <svg xmlns=\"http://www.w3.org/2000/svg\" height=\"24px\"viewBox=\"0 0 24 24\"\n",
              "       width=\"24px\">\n",
              "    <path d=\"M0 0h24v24H0V0z\" fill=\"none\"/>\n",
              "    <path d=\"M18.56 5.44l.94 2.06.94-2.06 2.06-.94-2.06-.94-.94-2.06-.94 2.06-2.06.94zm-11 1L8.5 8.5l.94-2.06 2.06-.94-2.06-.94L8.5 2.5l-.94 2.06-2.06.94zm10 10l.94 2.06.94-2.06 2.06-.94-2.06-.94-.94-2.06-.94 2.06-2.06.94z\"/><path d=\"M17.41 7.96l-1.37-1.37c-.4-.4-.92-.59-1.43-.59-.52 0-1.04.2-1.43.59L10.3 9.45l-7.72 7.72c-.78.78-.78 2.05 0 2.83L4 21.41c.39.39.9.59 1.41.59.51 0 1.02-.2 1.41-.59l7.78-7.78 2.81-2.81c.8-.78.8-2.07 0-2.86zM5.41 20L4 18.59l7.72-7.72 1.47 1.35L5.41 20z\"/>\n",
              "  </svg>\n",
              "      </button>\n",
              "      \n",
              "  <style>\n",
              "    .colab-df-container {\n",
              "      display:flex;\n",
              "      flex-wrap:wrap;\n",
              "      gap: 12px;\n",
              "    }\n",
              "\n",
              "    .colab-df-convert {\n",
              "      background-color: #E8F0FE;\n",
              "      border: none;\n",
              "      border-radius: 50%;\n",
              "      cursor: pointer;\n",
              "      display: none;\n",
              "      fill: #1967D2;\n",
              "      height: 32px;\n",
              "      padding: 0 0 0 0;\n",
              "      width: 32px;\n",
              "    }\n",
              "\n",
              "    .colab-df-convert:hover {\n",
              "      background-color: #E2EBFA;\n",
              "      box-shadow: 0px 1px 2px rgba(60, 64, 67, 0.3), 0px 1px 3px 1px rgba(60, 64, 67, 0.15);\n",
              "      fill: #174EA6;\n",
              "    }\n",
              "\n",
              "    [theme=dark] .colab-df-convert {\n",
              "      background-color: #3B4455;\n",
              "      fill: #D2E3FC;\n",
              "    }\n",
              "\n",
              "    [theme=dark] .colab-df-convert:hover {\n",
              "      background-color: #434B5C;\n",
              "      box-shadow: 0px 1px 3px 1px rgba(0, 0, 0, 0.15);\n",
              "      filter: drop-shadow(0px 1px 2px rgba(0, 0, 0, 0.3));\n",
              "      fill: #FFFFFF;\n",
              "    }\n",
              "  </style>\n",
              "\n",
              "      <script>\n",
              "        const buttonEl =\n",
              "          document.querySelector('#df-6fffd684-e040-40d1-bace-b4e3491485d0 button.colab-df-convert');\n",
              "        buttonEl.style.display =\n",
              "          google.colab.kernel.accessAllowed ? 'block' : 'none';\n",
              "\n",
              "        async function convertToInteractive(key) {\n",
              "          const element = document.querySelector('#df-6fffd684-e040-40d1-bace-b4e3491485d0');\n",
              "          const dataTable =\n",
              "            await google.colab.kernel.invokeFunction('convertToInteractive',\n",
              "                                                     [key], {});\n",
              "          if (!dataTable) return;\n",
              "\n",
              "          const docLinkHtml = 'Like what you see? Visit the ' +\n",
              "            '<a target=\"_blank\" href=https://colab.research.google.com/notebooks/data_table.ipynb>data table notebook</a>'\n",
              "            + ' to learn more about interactive tables.';\n",
              "          element.innerHTML = '';\n",
              "          dataTable['output_type'] = 'display_data';\n",
              "          await google.colab.output.renderOutput(dataTable, element);\n",
              "          const docLink = document.createElement('div');\n",
              "          docLink.innerHTML = docLinkHtml;\n",
              "          element.appendChild(docLink);\n",
              "        }\n",
              "      </script>\n",
              "    </div>\n",
              "  </div>\n",
              "  "
            ],
            "text/plain": [
              "        hora_em_minutos   temperatura_real  umidade_real\n",
              "count       2880.000000        2880.000000   2880.000000\n",
              "mean         723.573958          28.970486     69.412500\n",
              "std          408.389202           0.545432      2.404115\n",
              "min            0.000000          27.000000     61.000000\n",
              "25%          378.000000          29.000000     68.000000\n",
              "50%          733.000000          29.000000     69.000000\n",
              "75%         1069.250000          29.000000     71.000000\n",
              "max         1439.000000          31.000000     77.000000"
            ]
          },
          "metadata": {},
          "execution_count": 59
        }
      ]
    },
    {
      "cell_type": "code",
      "source": [
        "base48Temperatura = base48.drop(columns=['umidade_real','data'], axis=1)\n",
        "base48Umidade = base48.drop(columns=[' temperatura_real','data'], axis=1)\n",
        "\n",
        "print(base48Umidade.head())\n",
        "print(base48Temperatura.head())\n"
      ],
      "metadata": {
        "colab": {
          "base_uri": "https://localhost:8080/"
        },
        "id": "bMwE9_pYl3gw",
        "outputId": "5cd40888-347f-417e-f430-f8d8be49fce8"
      },
      "execution_count": 60,
      "outputs": [
        {
          "output_type": "stream",
          "name": "stdout",
          "text": [
            "    hora_em_minutos  umidade_real\n",
            "0               705            63\n",
            "1               706            68\n",
            "2               707            70\n",
            "3               707            65\n",
            "4               708            66\n",
            "    hora_em_minutos   temperatura_real\n",
            "0               705               29.0\n",
            "1               706               29.0\n",
            "2               707               29.0\n",
            "3               707               29.0\n",
            "4               708               29.0\n"
          ]
        }
      ]
    },
    {
      "cell_type": "markdown",
      "source": [
        "### grid umidade 48h"
      ],
      "metadata": {
        "id": "1rPElum-mDAA"
      }
    },
    {
      "cell_type": "code",
      "source": [
        "X_train_umidade48, X_test_umidade48, y_train_umidade48, y_test_umidade48 = train_test_split(base48Umidade.drop(columns=['umidade_real']), base48Umidade['umidade_real'],test_size=0.33)\n",
        "grid_umidade48 = GridSearchCV(MLPClassifier(),param_grid, verbose = 1)\n",
        "\n",
        "grid_umidade48.fit(X_train_umidade48,y_train_umidade48)"
      ],
      "metadata": {
        "colab": {
          "base_uri": "https://localhost:8080/"
        },
        "id": "jflmip1QmQki",
        "outputId": "97436a38-ab07-4ab8-fb84-7ac0a08a0cc2"
      },
      "execution_count": 62,
      "outputs": [
        {
          "output_type": "stream",
          "name": "stdout",
          "text": [
            "Fitting 5 folds for each of 96 candidates, totalling 480 fits\n"
          ]
        },
        {
          "output_type": "stream",
          "name": "stderr",
          "text": [
            "/usr/local/lib/python3.7/dist-packages/sklearn/model_selection/_split.py:680: UserWarning: The least populated class in y has only 2 members, which is less than n_splits=5.\n",
            "  UserWarning,\n",
            "/usr/local/lib/python3.7/dist-packages/sklearn/neural_network/_multilayer_perceptron.py:696: ConvergenceWarning: Stochastic Optimizer: Maximum iterations (200) reached and the optimization hasn't converged yet.\n",
            "  ConvergenceWarning,\n",
            "/usr/local/lib/python3.7/dist-packages/sklearn/neural_network/_multilayer_perceptron.py:696: ConvergenceWarning: Stochastic Optimizer: Maximum iterations (200) reached and the optimization hasn't converged yet.\n",
            "  ConvergenceWarning,\n",
            "/usr/local/lib/python3.7/dist-packages/sklearn/neural_network/_multilayer_perceptron.py:696: ConvergenceWarning: Stochastic Optimizer: Maximum iterations (200) reached and the optimization hasn't converged yet.\n",
            "  ConvergenceWarning,\n",
            "/usr/local/lib/python3.7/dist-packages/sklearn/neural_network/_multilayer_perceptron.py:696: ConvergenceWarning: Stochastic Optimizer: Maximum iterations (200) reached and the optimization hasn't converged yet.\n",
            "  ConvergenceWarning,\n",
            "/usr/local/lib/python3.7/dist-packages/sklearn/neural_network/_multilayer_perceptron.py:696: ConvergenceWarning: Stochastic Optimizer: Maximum iterations (200) reached and the optimization hasn't converged yet.\n",
            "  ConvergenceWarning,\n",
            "/usr/local/lib/python3.7/dist-packages/sklearn/neural_network/_multilayer_perceptron.py:696: ConvergenceWarning: Stochastic Optimizer: Maximum iterations (200) reached and the optimization hasn't converged yet.\n",
            "  ConvergenceWarning,\n",
            "/usr/local/lib/python3.7/dist-packages/sklearn/neural_network/_multilayer_perceptron.py:696: ConvergenceWarning: Stochastic Optimizer: Maximum iterations (200) reached and the optimization hasn't converged yet.\n",
            "  ConvergenceWarning,\n",
            "/usr/local/lib/python3.7/dist-packages/sklearn/neural_network/_multilayer_perceptron.py:696: ConvergenceWarning: Stochastic Optimizer: Maximum iterations (200) reached and the optimization hasn't converged yet.\n",
            "  ConvergenceWarning,\n",
            "/usr/local/lib/python3.7/dist-packages/sklearn/neural_network/_multilayer_perceptron.py:696: ConvergenceWarning: Stochastic Optimizer: Maximum iterations (200) reached and the optimization hasn't converged yet.\n",
            "  ConvergenceWarning,\n",
            "/usr/local/lib/python3.7/dist-packages/sklearn/neural_network/_multilayer_perceptron.py:696: ConvergenceWarning: Stochastic Optimizer: Maximum iterations (1000) reached and the optimization hasn't converged yet.\n",
            "  ConvergenceWarning,\n",
            "/usr/local/lib/python3.7/dist-packages/sklearn/neural_network/_multilayer_perceptron.py:696: ConvergenceWarning: Stochastic Optimizer: Maximum iterations (200) reached and the optimization hasn't converged yet.\n",
            "  ConvergenceWarning,\n",
            "/usr/local/lib/python3.7/dist-packages/sklearn/neural_network/_multilayer_perceptron.py:696: ConvergenceWarning: Stochastic Optimizer: Maximum iterations (200) reached and the optimization hasn't converged yet.\n",
            "  ConvergenceWarning,\n",
            "/usr/local/lib/python3.7/dist-packages/sklearn/neural_network/_multilayer_perceptron.py:696: ConvergenceWarning: Stochastic Optimizer: Maximum iterations (200) reached and the optimization hasn't converged yet.\n",
            "  ConvergenceWarning,\n",
            "/usr/local/lib/python3.7/dist-packages/sklearn/neural_network/_multilayer_perceptron.py:696: ConvergenceWarning: Stochastic Optimizer: Maximum iterations (200) reached and the optimization hasn't converged yet.\n",
            "  ConvergenceWarning,\n",
            "/usr/local/lib/python3.7/dist-packages/sklearn/neural_network/_multilayer_perceptron.py:696: ConvergenceWarning: Stochastic Optimizer: Maximum iterations (200) reached and the optimization hasn't converged yet.\n",
            "  ConvergenceWarning,\n",
            "/usr/local/lib/python3.7/dist-packages/sklearn/neural_network/_multilayer_perceptron.py:696: ConvergenceWarning: Stochastic Optimizer: Maximum iterations (200) reached and the optimization hasn't converged yet.\n",
            "  ConvergenceWarning,\n",
            "/usr/local/lib/python3.7/dist-packages/sklearn/neural_network/_multilayer_perceptron.py:696: ConvergenceWarning: Stochastic Optimizer: Maximum iterations (200) reached and the optimization hasn't converged yet.\n",
            "  ConvergenceWarning,\n",
            "/usr/local/lib/python3.7/dist-packages/sklearn/neural_network/_multilayer_perceptron.py:696: ConvergenceWarning: Stochastic Optimizer: Maximum iterations (200) reached and the optimization hasn't converged yet.\n",
            "  ConvergenceWarning,\n",
            "/usr/local/lib/python3.7/dist-packages/sklearn/neural_network/_multilayer_perceptron.py:696: ConvergenceWarning: Stochastic Optimizer: Maximum iterations (200) reached and the optimization hasn't converged yet.\n",
            "  ConvergenceWarning,\n",
            "/usr/local/lib/python3.7/dist-packages/sklearn/neural_network/_multilayer_perceptron.py:696: ConvergenceWarning: Stochastic Optimizer: Maximum iterations (200) reached and the optimization hasn't converged yet.\n",
            "  ConvergenceWarning,\n"
          ]
        },
        {
          "output_type": "execute_result",
          "data": {
            "text/plain": [
              "GridSearchCV(estimator=MLPClassifier(),\n",
              "             param_grid={'activation': ['identity', 'logistic', 'tanh', 'relu'],\n",
              "                         'hidden_layer_sizes': [(100,), (7,)],\n",
              "                         'learning_rate_init': [0.001, 0.01, 0.1],\n",
              "                         'max_iter': [200, 1000, 5000, 10000]},\n",
              "             verbose=1)"
            ]
          },
          "metadata": {},
          "execution_count": 62
        }
      ]
    },
    {
      "cell_type": "code",
      "source": [
        "grid_umidade48.best_params_"
      ],
      "metadata": {
        "colab": {
          "base_uri": "https://localhost:8080/"
        },
        "id": "8bVDcgcNmto7",
        "outputId": "20e7021c-4a36-456c-ea18-d4802dcfecae"
      },
      "execution_count": 63,
      "outputs": [
        {
          "output_type": "execute_result",
          "data": {
            "text/plain": [
              "{'activation': 'logistic',\n",
              " 'hidden_layer_sizes': (100,),\n",
              " 'learning_rate_init': 0.001,\n",
              " 'max_iter': 10000}"
            ]
          },
          "metadata": {},
          "execution_count": 63
        }
      ]
    },
    {
      "cell_type": "code",
      "source": [
        "grid_umidade48.best_score_"
      ],
      "metadata": {
        "colab": {
          "base_uri": "https://localhost:8080/"
        },
        "id": "SZ2tm-JwmzcX",
        "outputId": "dddc6657-c35a-4f97-bf10-baf225b92adf"
      },
      "execution_count": 64,
      "outputs": [
        {
          "output_type": "execute_result",
          "data": {
            "text/plain": [
              "0.2695538658232959"
            ]
          },
          "metadata": {},
          "execution_count": 64
        }
      ]
    },
    {
      "cell_type": "code",
      "source": [
        "pred_umidade48 = grid_umidade48.predict(X_test_umidade48)\n",
        "print(metrics.classification_report(y_test_umidade48,pred_umidade48))"
      ],
      "metadata": {
        "colab": {
          "base_uri": "https://localhost:8080/"
        },
        "id": "WGBxiaURm4dW",
        "outputId": "6022617a-5778-4e2b-919b-120fe654908c"
      },
      "execution_count": 65,
      "outputs": [
        {
          "output_type": "stream",
          "name": "stdout",
          "text": [
            "              precision    recall  f1-score   support\n",
            "\n",
            "          62       0.00      0.00      0.00        10\n",
            "          63       0.00      0.00      0.00        15\n",
            "          64       0.00      0.00      0.00        15\n",
            "          65       0.00      0.00      0.00        14\n",
            "          66       0.00      0.00      0.00        43\n",
            "          67       0.00      0.00      0.00        63\n",
            "          68       0.06      0.05      0.06       162\n",
            "          69       0.15      0.29      0.20       163\n",
            "          70       0.32      0.64      0.43       166\n",
            "          71       0.37      0.18      0.25        87\n",
            "          72       0.46      0.39      0.42       169\n",
            "          73       0.00      0.00      0.00        30\n",
            "          74       0.00      0.00      0.00         5\n",
            "          75       0.00      0.00      0.00         3\n",
            "          76       0.00      0.00      0.00         6\n",
            "\n",
            "    accuracy                           0.26       951\n",
            "   macro avg       0.09      0.10      0.09       951\n",
            "weighted avg       0.21      0.26      0.22       951\n",
            "\n"
          ]
        },
        {
          "output_type": "stream",
          "name": "stderr",
          "text": [
            "/usr/local/lib/python3.7/dist-packages/sklearn/metrics/_classification.py:1318: UndefinedMetricWarning: Precision and F-score are ill-defined and being set to 0.0 in labels with no predicted samples. Use `zero_division` parameter to control this behavior.\n",
            "  _warn_prf(average, modifier, msg_start, len(result))\n",
            "/usr/local/lib/python3.7/dist-packages/sklearn/metrics/_classification.py:1318: UndefinedMetricWarning: Precision and F-score are ill-defined and being set to 0.0 in labels with no predicted samples. Use `zero_division` parameter to control this behavior.\n",
            "  _warn_prf(average, modifier, msg_start, len(result))\n",
            "/usr/local/lib/python3.7/dist-packages/sklearn/metrics/_classification.py:1318: UndefinedMetricWarning: Precision and F-score are ill-defined and being set to 0.0 in labels with no predicted samples. Use `zero_division` parameter to control this behavior.\n",
            "  _warn_prf(average, modifier, msg_start, len(result))\n"
          ]
        }
      ]
    },
    {
      "cell_type": "markdown",
      "source": [
        "### grid temperatura 48h"
      ],
      "metadata": {
        "id": "S8GtMiOemFRW"
      }
    },
    {
      "cell_type": "code",
      "source": [
        "X_train_temperatura48, X_test_temperatura48, y_train_temperatura48, y_test_temperatura48 = train_test_split(base48Temperatura.drop(columns=[' temperatura_real']), base48Temperatura[' temperatura_real'],test_size=0.33)\n",
        "\n",
        "grid_temperatura48 = GridSearchCV(MLPClassifier(),param_grid, verbose = 1)\n",
        "\n",
        "grid_temperatura48.fit(X_train_temperatura48,y_train_temperatura48)"
      ],
      "metadata": {
        "colab": {
          "base_uri": "https://localhost:8080/"
        },
        "id": "Nif99SIFnDgu",
        "outputId": "30030cb8-9988-4cd3-978f-22efe1749652"
      },
      "execution_count": 66,
      "outputs": [
        {
          "output_type": "stream",
          "name": "stdout",
          "text": [
            "Fitting 5 folds for each of 96 candidates, totalling 480 fits\n"
          ]
        },
        {
          "output_type": "stream",
          "name": "stderr",
          "text": [
            "/usr/local/lib/python3.7/dist-packages/sklearn/model_selection/_split.py:680: UserWarning: The least populated class in y has only 1 members, which is less than n_splits=5.\n",
            "  UserWarning,\n",
            "/usr/local/lib/python3.7/dist-packages/sklearn/neural_network/_multilayer_perceptron.py:696: ConvergenceWarning: Stochastic Optimizer: Maximum iterations (200) reached and the optimization hasn't converged yet.\n",
            "  ConvergenceWarning,\n",
            "/usr/local/lib/python3.7/dist-packages/sklearn/neural_network/_multilayer_perceptron.py:696: ConvergenceWarning: Stochastic Optimizer: Maximum iterations (200) reached and the optimization hasn't converged yet.\n",
            "  ConvergenceWarning,\n",
            "/usr/local/lib/python3.7/dist-packages/sklearn/neural_network/_multilayer_perceptron.py:696: ConvergenceWarning: Stochastic Optimizer: Maximum iterations (200) reached and the optimization hasn't converged yet.\n",
            "  ConvergenceWarning,\n",
            "/usr/local/lib/python3.7/dist-packages/sklearn/neural_network/_multilayer_perceptron.py:696: ConvergenceWarning: Stochastic Optimizer: Maximum iterations (200) reached and the optimization hasn't converged yet.\n",
            "  ConvergenceWarning,\n",
            "/usr/local/lib/python3.7/dist-packages/sklearn/neural_network/_multilayer_perceptron.py:696: ConvergenceWarning: Stochastic Optimizer: Maximum iterations (200) reached and the optimization hasn't converged yet.\n",
            "  ConvergenceWarning,\n",
            "/usr/local/lib/python3.7/dist-packages/sklearn/neural_network/_multilayer_perceptron.py:696: ConvergenceWarning: Stochastic Optimizer: Maximum iterations (200) reached and the optimization hasn't converged yet.\n",
            "  ConvergenceWarning,\n",
            "/usr/local/lib/python3.7/dist-packages/sklearn/neural_network/_multilayer_perceptron.py:696: ConvergenceWarning: Stochastic Optimizer: Maximum iterations (200) reached and the optimization hasn't converged yet.\n",
            "  ConvergenceWarning,\n",
            "/usr/local/lib/python3.7/dist-packages/sklearn/neural_network/_multilayer_perceptron.py:696: ConvergenceWarning: Stochastic Optimizer: Maximum iterations (200) reached and the optimization hasn't converged yet.\n",
            "  ConvergenceWarning,\n",
            "/usr/local/lib/python3.7/dist-packages/sklearn/neural_network/_multilayer_perceptron.py:696: ConvergenceWarning: Stochastic Optimizer: Maximum iterations (200) reached and the optimization hasn't converged yet.\n",
            "  ConvergenceWarning,\n",
            "/usr/local/lib/python3.7/dist-packages/sklearn/neural_network/_multilayer_perceptron.py:696: ConvergenceWarning: Stochastic Optimizer: Maximum iterations (200) reached and the optimization hasn't converged yet.\n",
            "  ConvergenceWarning,\n",
            "/usr/local/lib/python3.7/dist-packages/sklearn/neural_network/_multilayer_perceptron.py:696: ConvergenceWarning: Stochastic Optimizer: Maximum iterations (200) reached and the optimization hasn't converged yet.\n",
            "  ConvergenceWarning,\n",
            "/usr/local/lib/python3.7/dist-packages/sklearn/neural_network/_multilayer_perceptron.py:696: ConvergenceWarning: Stochastic Optimizer: Maximum iterations (200) reached and the optimization hasn't converged yet.\n",
            "  ConvergenceWarning,\n"
          ]
        },
        {
          "output_type": "execute_result",
          "data": {
            "text/plain": [
              "GridSearchCV(estimator=MLPClassifier(),\n",
              "             param_grid={'activation': ['identity', 'logistic', 'tanh', 'relu'],\n",
              "                         'hidden_layer_sizes': [(100,), (7,)],\n",
              "                         'learning_rate_init': [0.001, 0.01, 0.1],\n",
              "                         'max_iter': [200, 1000, 5000, 10000]},\n",
              "             verbose=1)"
            ]
          },
          "metadata": {},
          "execution_count": 66
        }
      ]
    },
    {
      "cell_type": "code",
      "source": [
        "grid_temperatura48.best_params_"
      ],
      "metadata": {
        "colab": {
          "base_uri": "https://localhost:8080/"
        },
        "id": "K-fNX9gfnZq-",
        "outputId": "5b9108b6-a004-4d63-81e4-bbd08829ce7a"
      },
      "execution_count": 67,
      "outputs": [
        {
          "output_type": "execute_result",
          "data": {
            "text/plain": [
              "{'activation': 'tanh',\n",
              " 'hidden_layer_sizes': (100,),\n",
              " 'learning_rate_init': 0.001,\n",
              " 'max_iter': 200}"
            ]
          },
          "metadata": {},
          "execution_count": 67
        }
      ]
    },
    {
      "cell_type": "code",
      "source": [
        "grid_temperatura48.best_score_"
      ],
      "metadata": {
        "colab": {
          "base_uri": "https://localhost:8080/"
        },
        "id": "pxnb5wt2ngZZ",
        "outputId": "1e6e3edc-9632-4619-bb1a-2af8efbfa13d"
      },
      "execution_count": 68,
      "outputs": [
        {
          "output_type": "execute_result",
          "data": {
            "text/plain": [
              "0.7179812933180809"
            ]
          },
          "metadata": {},
          "execution_count": 68
        }
      ]
    },
    {
      "cell_type": "code",
      "source": [
        "pred_temperatura48 = grid_temperatura48.predict(X_test_temperatura48)\n",
        "print(metrics.classification_report(y_test_temperatura48,pred_temperatura48))"
      ],
      "metadata": {
        "colab": {
          "base_uri": "https://localhost:8080/"
        },
        "id": "wLw2WruPnnuf",
        "outputId": "a256df0b-a818-4f4f-9f17-b7a7c98dde21"
      },
      "execution_count": 69,
      "outputs": [
        {
          "output_type": "stream",
          "name": "stdout",
          "text": [
            "              precision    recall  f1-score   support\n",
            "\n",
            "        27.0       0.00      0.00      0.00         2\n",
            "        28.0       0.00      0.00      0.00       160\n",
            "        29.0       0.71      1.00      0.83       674\n",
            "        30.0       0.00      0.00      0.00       114\n",
            "        31.0       0.00      0.00      0.00         1\n",
            "\n",
            "    accuracy                           0.71       951\n",
            "   macro avg       0.14      0.20      0.17       951\n",
            "weighted avg       0.50      0.71      0.59       951\n",
            "\n"
          ]
        },
        {
          "output_type": "stream",
          "name": "stderr",
          "text": [
            "/usr/local/lib/python3.7/dist-packages/sklearn/metrics/_classification.py:1318: UndefinedMetricWarning: Precision and F-score are ill-defined and being set to 0.0 in labels with no predicted samples. Use `zero_division` parameter to control this behavior.\n",
            "  _warn_prf(average, modifier, msg_start, len(result))\n",
            "/usr/local/lib/python3.7/dist-packages/sklearn/metrics/_classification.py:1318: UndefinedMetricWarning: Precision and F-score are ill-defined and being set to 0.0 in labels with no predicted samples. Use `zero_division` parameter to control this behavior.\n",
            "  _warn_prf(average, modifier, msg_start, len(result))\n",
            "/usr/local/lib/python3.7/dist-packages/sklearn/metrics/_classification.py:1318: UndefinedMetricWarning: Precision and F-score are ill-defined and being set to 0.0 in labels with no predicted samples. Use `zero_division` parameter to control this behavior.\n",
            "  _warn_prf(average, modifier, msg_start, len(result))\n"
          ]
        }
      ]
    },
    {
      "cell_type": "markdown",
      "source": [
        "## Base 72 horas"
      ],
      "metadata": {
        "id": "wGM9X9VvnwM1"
      }
    },
    {
      "cell_type": "code",
      "source": [
        "#Apresentação\n",
        "\n",
        "base72 = pd.read_csv(\"https://raw.githubusercontent.com/ashouy/predicao_api/master/bases_iniciais/base72h.csv\")\n",
        "\n",
        "base72.describe()"
      ],
      "metadata": {
        "colab": {
          "base_uri": "https://localhost:8080/",
          "height": 300
        },
        "id": "tp1M2vd9n2Ne",
        "outputId": "b61af1a3-150e-44eb-b117-65a0cf716d7b"
      },
      "execution_count": 70,
      "outputs": [
        {
          "output_type": "execute_result",
          "data": {
            "text/html": [
              "\n",
              "  <div id=\"df-228bf8f6-dc83-4007-80df-9c6a99603577\">\n",
              "    <div class=\"colab-df-container\">\n",
              "      <div>\n",
              "<style scoped>\n",
              "    .dataframe tbody tr th:only-of-type {\n",
              "        vertical-align: middle;\n",
              "    }\n",
              "\n",
              "    .dataframe tbody tr th {\n",
              "        vertical-align: top;\n",
              "    }\n",
              "\n",
              "    .dataframe thead th {\n",
              "        text-align: right;\n",
              "    }\n",
              "</style>\n",
              "<table border=\"1\" class=\"dataframe\">\n",
              "  <thead>\n",
              "    <tr style=\"text-align: right;\">\n",
              "      <th></th>\n",
              "      <th>hora_em_minutos</th>\n",
              "      <th>temperatura_real</th>\n",
              "      <th>umidade_real</th>\n",
              "    </tr>\n",
              "  </thead>\n",
              "  <tbody>\n",
              "    <tr>\n",
              "      <th>count</th>\n",
              "      <td>4320.000000</td>\n",
              "      <td>4320.000000</td>\n",
              "      <td>4320.000000</td>\n",
              "    </tr>\n",
              "    <tr>\n",
              "      <th>mean</th>\n",
              "      <td>722.993750</td>\n",
              "      <td>28.925463</td>\n",
              "      <td>69.775926</td>\n",
              "    </tr>\n",
              "    <tr>\n",
              "      <th>std</th>\n",
              "      <td>409.079988</td>\n",
              "      <td>0.603302</td>\n",
              "      <td>2.755663</td>\n",
              "    </tr>\n",
              "    <tr>\n",
              "      <th>min</th>\n",
              "      <td>0.000000</td>\n",
              "      <td>27.000000</td>\n",
              "      <td>60.000000</td>\n",
              "    </tr>\n",
              "    <tr>\n",
              "      <th>25%</th>\n",
              "      <td>375.000000</td>\n",
              "      <td>29.000000</td>\n",
              "      <td>68.000000</td>\n",
              "    </tr>\n",
              "    <tr>\n",
              "      <th>50%</th>\n",
              "      <td>734.500000</td>\n",
              "      <td>29.000000</td>\n",
              "      <td>70.000000</td>\n",
              "    </tr>\n",
              "    <tr>\n",
              "      <th>75%</th>\n",
              "      <td>1069.250000</td>\n",
              "      <td>29.000000</td>\n",
              "      <td>72.000000</td>\n",
              "    </tr>\n",
              "    <tr>\n",
              "      <th>max</th>\n",
              "      <td>1439.000000</td>\n",
              "      <td>31.000000</td>\n",
              "      <td>77.000000</td>\n",
              "    </tr>\n",
              "  </tbody>\n",
              "</table>\n",
              "</div>\n",
              "      <button class=\"colab-df-convert\" onclick=\"convertToInteractive('df-228bf8f6-dc83-4007-80df-9c6a99603577')\"\n",
              "              title=\"Convert this dataframe to an interactive table.\"\n",
              "              style=\"display:none;\">\n",
              "        \n",
              "  <svg xmlns=\"http://www.w3.org/2000/svg\" height=\"24px\"viewBox=\"0 0 24 24\"\n",
              "       width=\"24px\">\n",
              "    <path d=\"M0 0h24v24H0V0z\" fill=\"none\"/>\n",
              "    <path d=\"M18.56 5.44l.94 2.06.94-2.06 2.06-.94-2.06-.94-.94-2.06-.94 2.06-2.06.94zm-11 1L8.5 8.5l.94-2.06 2.06-.94-2.06-.94L8.5 2.5l-.94 2.06-2.06.94zm10 10l.94 2.06.94-2.06 2.06-.94-2.06-.94-.94-2.06-.94 2.06-2.06.94z\"/><path d=\"M17.41 7.96l-1.37-1.37c-.4-.4-.92-.59-1.43-.59-.52 0-1.04.2-1.43.59L10.3 9.45l-7.72 7.72c-.78.78-.78 2.05 0 2.83L4 21.41c.39.39.9.59 1.41.59.51 0 1.02-.2 1.41-.59l7.78-7.78 2.81-2.81c.8-.78.8-2.07 0-2.86zM5.41 20L4 18.59l7.72-7.72 1.47 1.35L5.41 20z\"/>\n",
              "  </svg>\n",
              "      </button>\n",
              "      \n",
              "  <style>\n",
              "    .colab-df-container {\n",
              "      display:flex;\n",
              "      flex-wrap:wrap;\n",
              "      gap: 12px;\n",
              "    }\n",
              "\n",
              "    .colab-df-convert {\n",
              "      background-color: #E8F0FE;\n",
              "      border: none;\n",
              "      border-radius: 50%;\n",
              "      cursor: pointer;\n",
              "      display: none;\n",
              "      fill: #1967D2;\n",
              "      height: 32px;\n",
              "      padding: 0 0 0 0;\n",
              "      width: 32px;\n",
              "    }\n",
              "\n",
              "    .colab-df-convert:hover {\n",
              "      background-color: #E2EBFA;\n",
              "      box-shadow: 0px 1px 2px rgba(60, 64, 67, 0.3), 0px 1px 3px 1px rgba(60, 64, 67, 0.15);\n",
              "      fill: #174EA6;\n",
              "    }\n",
              "\n",
              "    [theme=dark] .colab-df-convert {\n",
              "      background-color: #3B4455;\n",
              "      fill: #D2E3FC;\n",
              "    }\n",
              "\n",
              "    [theme=dark] .colab-df-convert:hover {\n",
              "      background-color: #434B5C;\n",
              "      box-shadow: 0px 1px 3px 1px rgba(0, 0, 0, 0.15);\n",
              "      filter: drop-shadow(0px 1px 2px rgba(0, 0, 0, 0.3));\n",
              "      fill: #FFFFFF;\n",
              "    }\n",
              "  </style>\n",
              "\n",
              "      <script>\n",
              "        const buttonEl =\n",
              "          document.querySelector('#df-228bf8f6-dc83-4007-80df-9c6a99603577 button.colab-df-convert');\n",
              "        buttonEl.style.display =\n",
              "          google.colab.kernel.accessAllowed ? 'block' : 'none';\n",
              "\n",
              "        async function convertToInteractive(key) {\n",
              "          const element = document.querySelector('#df-228bf8f6-dc83-4007-80df-9c6a99603577');\n",
              "          const dataTable =\n",
              "            await google.colab.kernel.invokeFunction('convertToInteractive',\n",
              "                                                     [key], {});\n",
              "          if (!dataTable) return;\n",
              "\n",
              "          const docLinkHtml = 'Like what you see? Visit the ' +\n",
              "            '<a target=\"_blank\" href=https://colab.research.google.com/notebooks/data_table.ipynb>data table notebook</a>'\n",
              "            + ' to learn more about interactive tables.';\n",
              "          element.innerHTML = '';\n",
              "          dataTable['output_type'] = 'display_data';\n",
              "          await google.colab.output.renderOutput(dataTable, element);\n",
              "          const docLink = document.createElement('div');\n",
              "          docLink.innerHTML = docLinkHtml;\n",
              "          element.appendChild(docLink);\n",
              "        }\n",
              "      </script>\n",
              "    </div>\n",
              "  </div>\n",
              "  "
            ],
            "text/plain": [
              "        hora_em_minutos   temperatura_real  umidade_real\n",
              "count       4320.000000        4320.000000   4320.000000\n",
              "mean         722.993750          28.925463     69.775926\n",
              "std          409.079988           0.603302      2.755663\n",
              "min            0.000000          27.000000     60.000000\n",
              "25%          375.000000          29.000000     68.000000\n",
              "50%          734.500000          29.000000     70.000000\n",
              "75%         1069.250000          29.000000     72.000000\n",
              "max         1439.000000          31.000000     77.000000"
            ]
          },
          "metadata": {},
          "execution_count": 70
        }
      ]
    },
    {
      "cell_type": "code",
      "source": [
        "base72Temperatura = base72.drop(columns=['umidade_real','data'], axis=1)\n",
        "base72Umidade = base72.drop(columns=[' temperatura_real','data'], axis=1)\n",
        "\n",
        "print(base72Umidade.head())\n",
        "print(base72Temperatura.head())"
      ],
      "metadata": {
        "colab": {
          "base_uri": "https://localhost:8080/"
        },
        "id": "JbiBTy1UoEun",
        "outputId": "8699a910-db95-4e5c-ccec-f6b19211867e"
      },
      "execution_count": 71,
      "outputs": [
        {
          "output_type": "stream",
          "name": "stdout",
          "text": [
            "    hora_em_minutos  umidade_real\n",
            "0               705            63\n",
            "1               706            68\n",
            "2               707            70\n",
            "3               707            65\n",
            "4               708            66\n",
            "    hora_em_minutos   temperatura_real\n",
            "0               705               29.0\n",
            "1               706               29.0\n",
            "2               707               29.0\n",
            "3               707               29.0\n",
            "4               708               29.0\n"
          ]
        }
      ]
    },
    {
      "cell_type": "markdown",
      "source": [
        "### grid umidade 72h"
      ],
      "metadata": {
        "id": "fkoINxFGoLgG"
      }
    },
    {
      "cell_type": "code",
      "source": [
        "X_train_umidade72, X_test_umidade72, y_train_umidade72, y_test_umidade72 = train_test_split(base72Umidade.drop(columns=['umidade_real']), base72Umidade['umidade_real'],test_size=0.33)\n",
        "grid_umidade72 = GridSearchCV(MLPClassifier(),param_grid, verbose = 1)\n",
        "\n",
        "grid_umidade72.fit(X_train_umidade72,y_train_umidade72)"
      ],
      "metadata": {
        "colab": {
          "base_uri": "https://localhost:8080/"
        },
        "id": "qLxsn3RYoh7z",
        "outputId": "26c451e7-cf91-4019-db44-9a2a8fcf6705"
      },
      "execution_count": 72,
      "outputs": [
        {
          "output_type": "stream",
          "name": "stdout",
          "text": [
            "Fitting 5 folds for each of 96 candidates, totalling 480 fits\n"
          ]
        },
        {
          "output_type": "stream",
          "name": "stderr",
          "text": [
            "/usr/local/lib/python3.7/dist-packages/sklearn/model_selection/_split.py:680: UserWarning: The least populated class in y has only 3 members, which is less than n_splits=5.\n",
            "  UserWarning,\n",
            "/usr/local/lib/python3.7/dist-packages/sklearn/neural_network/_multilayer_perceptron.py:696: ConvergenceWarning: Stochastic Optimizer: Maximum iterations (200) reached and the optimization hasn't converged yet.\n",
            "  ConvergenceWarning,\n",
            "/usr/local/lib/python3.7/dist-packages/sklearn/neural_network/_multilayer_perceptron.py:696: ConvergenceWarning: Stochastic Optimizer: Maximum iterations (200) reached and the optimization hasn't converged yet.\n",
            "  ConvergenceWarning,\n",
            "/usr/local/lib/python3.7/dist-packages/sklearn/neural_network/_multilayer_perceptron.py:696: ConvergenceWarning: Stochastic Optimizer: Maximum iterations (200) reached and the optimization hasn't converged yet.\n",
            "  ConvergenceWarning,\n",
            "/usr/local/lib/python3.7/dist-packages/sklearn/neural_network/_multilayer_perceptron.py:696: ConvergenceWarning: Stochastic Optimizer: Maximum iterations (200) reached and the optimization hasn't converged yet.\n",
            "  ConvergenceWarning,\n",
            "/usr/local/lib/python3.7/dist-packages/sklearn/neural_network/_multilayer_perceptron.py:696: ConvergenceWarning: Stochastic Optimizer: Maximum iterations (200) reached and the optimization hasn't converged yet.\n",
            "  ConvergenceWarning,\n",
            "/usr/local/lib/python3.7/dist-packages/sklearn/neural_network/_multilayer_perceptron.py:696: ConvergenceWarning: Stochastic Optimizer: Maximum iterations (200) reached and the optimization hasn't converged yet.\n",
            "  ConvergenceWarning,\n",
            "/usr/local/lib/python3.7/dist-packages/sklearn/neural_network/_multilayer_perceptron.py:696: ConvergenceWarning: Stochastic Optimizer: Maximum iterations (200) reached and the optimization hasn't converged yet.\n",
            "  ConvergenceWarning,\n",
            "/usr/local/lib/python3.7/dist-packages/sklearn/neural_network/_multilayer_perceptron.py:696: ConvergenceWarning: Stochastic Optimizer: Maximum iterations (200) reached and the optimization hasn't converged yet.\n",
            "  ConvergenceWarning,\n",
            "/usr/local/lib/python3.7/dist-packages/sklearn/neural_network/_multilayer_perceptron.py:696: ConvergenceWarning: Stochastic Optimizer: Maximum iterations (200) reached and the optimization hasn't converged yet.\n",
            "  ConvergenceWarning,\n",
            "/usr/local/lib/python3.7/dist-packages/sklearn/neural_network/_multilayer_perceptron.py:696: ConvergenceWarning: Stochastic Optimizer: Maximum iterations (1000) reached and the optimization hasn't converged yet.\n",
            "  ConvergenceWarning,\n",
            "/usr/local/lib/python3.7/dist-packages/sklearn/neural_network/_multilayer_perceptron.py:696: ConvergenceWarning: Stochastic Optimizer: Maximum iterations (200) reached and the optimization hasn't converged yet.\n",
            "  ConvergenceWarning,\n",
            "/usr/local/lib/python3.7/dist-packages/sklearn/neural_network/_multilayer_perceptron.py:696: ConvergenceWarning: Stochastic Optimizer: Maximum iterations (200) reached and the optimization hasn't converged yet.\n",
            "  ConvergenceWarning,\n",
            "/usr/local/lib/python3.7/dist-packages/sklearn/neural_network/_multilayer_perceptron.py:696: ConvergenceWarning: Stochastic Optimizer: Maximum iterations (200) reached and the optimization hasn't converged yet.\n",
            "  ConvergenceWarning,\n",
            "/usr/local/lib/python3.7/dist-packages/sklearn/neural_network/_multilayer_perceptron.py:696: ConvergenceWarning: Stochastic Optimizer: Maximum iterations (200) reached and the optimization hasn't converged yet.\n",
            "  ConvergenceWarning,\n",
            "/usr/local/lib/python3.7/dist-packages/sklearn/neural_network/_multilayer_perceptron.py:696: ConvergenceWarning: Stochastic Optimizer: Maximum iterations (200) reached and the optimization hasn't converged yet.\n",
            "  ConvergenceWarning,\n",
            "/usr/local/lib/python3.7/dist-packages/sklearn/neural_network/_multilayer_perceptron.py:696: ConvergenceWarning: Stochastic Optimizer: Maximum iterations (200) reached and the optimization hasn't converged yet.\n",
            "  ConvergenceWarning,\n",
            "/usr/local/lib/python3.7/dist-packages/sklearn/neural_network/_multilayer_perceptron.py:696: ConvergenceWarning: Stochastic Optimizer: Maximum iterations (200) reached and the optimization hasn't converged yet.\n",
            "  ConvergenceWarning,\n",
            "/usr/local/lib/python3.7/dist-packages/sklearn/neural_network/_multilayer_perceptron.py:696: ConvergenceWarning: Stochastic Optimizer: Maximum iterations (200) reached and the optimization hasn't converged yet.\n",
            "  ConvergenceWarning,\n",
            "/usr/local/lib/python3.7/dist-packages/sklearn/neural_network/_multilayer_perceptron.py:696: ConvergenceWarning: Stochastic Optimizer: Maximum iterations (200) reached and the optimization hasn't converged yet.\n",
            "  ConvergenceWarning,\n"
          ]
        },
        {
          "output_type": "execute_result",
          "data": {
            "text/plain": [
              "GridSearchCV(estimator=MLPClassifier(),\n",
              "             param_grid={'activation': ['identity', 'logistic', 'tanh', 'relu'],\n",
              "                         'hidden_layer_sizes': [(100,), (7,)],\n",
              "                         'learning_rate_init': [0.001, 0.01, 0.1],\n",
              "                         'max_iter': [200, 1000, 5000, 10000]},\n",
              "             verbose=1)"
            ]
          },
          "metadata": {},
          "execution_count": 72
        }
      ]
    },
    {
      "cell_type": "code",
      "source": [
        "grid_umidade72.best_params_"
      ],
      "metadata": {
        "colab": {
          "base_uri": "https://localhost:8080/"
        },
        "id": "rTKzE7iepYBU",
        "outputId": "b1da7e95-28ed-41a7-c53b-e4f843589912"
      },
      "execution_count": 73,
      "outputs": [
        {
          "output_type": "execute_result",
          "data": {
            "text/plain": [
              "{'activation': 'logistic',\n",
              " 'hidden_layer_sizes': (100,),\n",
              " 'learning_rate_init': 0.001,\n",
              " 'max_iter': 1000}"
            ]
          },
          "metadata": {},
          "execution_count": 73
        }
      ]
    },
    {
      "cell_type": "code",
      "source": [
        "grid_umidade72.best_score_"
      ],
      "metadata": {
        "colab": {
          "base_uri": "https://localhost:8080/"
        },
        "id": "TkMT6EcPpc5j",
        "outputId": "a9070588-0a05-4395-eb1b-f021f6bc68c4"
      },
      "execution_count": 74,
      "outputs": [
        {
          "output_type": "execute_result",
          "data": {
            "text/plain": [
              "0.20456520310044163"
            ]
          },
          "metadata": {},
          "execution_count": 74
        }
      ]
    },
    {
      "cell_type": "code",
      "source": [
        "pred_umidade72 = grid_umidade72.predict(X_test_umidade72)\n",
        "print(metrics.classification_report(y_test_umidade72,pred_umidade72))"
      ],
      "metadata": {
        "colab": {
          "base_uri": "https://localhost:8080/"
        },
        "id": "du477JcophXL",
        "outputId": "ff1edcb6-f41e-4308-8651-560e39833872"
      },
      "execution_count": 75,
      "outputs": [
        {
          "output_type": "stream",
          "name": "stdout",
          "text": [
            "              precision    recall  f1-score   support\n",
            "\n",
            "          60       0.00      0.00      0.00         1\n",
            "          61       0.00      0.00      0.00         6\n",
            "          62       0.00      0.00      0.00        11\n",
            "          63       0.00      0.00      0.00        22\n",
            "          64       0.00      0.00      0.00        21\n",
            "          65       0.00      0.00      0.00        22\n",
            "          66       0.00      0.00      0.00        66\n",
            "          67       0.00      0.00      0.00        96\n",
            "          68       0.20      0.51      0.28       182\n",
            "          69       0.21      0.19      0.20       216\n",
            "          70       0.19      0.46      0.26       179\n",
            "          71       0.27      0.11      0.16       137\n",
            "          72       0.31      0.16      0.21       217\n",
            "          73       0.36      0.27      0.31       167\n",
            "          74       0.24      0.13      0.17        68\n",
            "          75       0.00      0.00      0.00         8\n",
            "          76       0.00      0.00      0.00         6\n",
            "          77       0.00      0.00      0.00         1\n",
            "\n",
            "    accuracy                           0.22      1426\n",
            "   macro avg       0.10      0.10      0.09      1426\n",
            "weighted avg       0.21      0.22      0.19      1426\n",
            "\n"
          ]
        },
        {
          "output_type": "stream",
          "name": "stderr",
          "text": [
            "/usr/local/lib/python3.7/dist-packages/sklearn/metrics/_classification.py:1318: UndefinedMetricWarning: Precision and F-score are ill-defined and being set to 0.0 in labels with no predicted samples. Use `zero_division` parameter to control this behavior.\n",
            "  _warn_prf(average, modifier, msg_start, len(result))\n",
            "/usr/local/lib/python3.7/dist-packages/sklearn/metrics/_classification.py:1318: UndefinedMetricWarning: Precision and F-score are ill-defined and being set to 0.0 in labels with no predicted samples. Use `zero_division` parameter to control this behavior.\n",
            "  _warn_prf(average, modifier, msg_start, len(result))\n",
            "/usr/local/lib/python3.7/dist-packages/sklearn/metrics/_classification.py:1318: UndefinedMetricWarning: Precision and F-score are ill-defined and being set to 0.0 in labels with no predicted samples. Use `zero_division` parameter to control this behavior.\n",
            "  _warn_prf(average, modifier, msg_start, len(result))\n"
          ]
        }
      ]
    },
    {
      "cell_type": "markdown",
      "source": [
        "### grid temperatura 72h"
      ],
      "metadata": {
        "id": "E1l73C0dobPD"
      }
    },
    {
      "cell_type": "code",
      "source": [
        "X_train_temperatura72, X_test_temperatura72, y_train_temperatura72, y_test_temperatura72 = train_test_split(base72Temperatura.drop(columns=[' temperatura_real']), base72Temperatura[' temperatura_real'],test_size=0.33)\n",
        "\n",
        "grid_temperatura72 = GridSearchCV(MLPClassifier(),param_grid, verbose = 1)\n",
        "\n",
        "grid_temperatura72.fit(X_train_temperatura72,y_train_temperatura72)"
      ],
      "metadata": {
        "colab": {
          "base_uri": "https://localhost:8080/"
        },
        "id": "8_2FpKPfptX3",
        "outputId": "de78038c-6fae-426a-9eb2-9f4827cb9a5e"
      },
      "execution_count": 76,
      "outputs": [
        {
          "output_type": "stream",
          "name": "stdout",
          "text": [
            "Fitting 5 folds for each of 96 candidates, totalling 480 fits\n"
          ]
        },
        {
          "output_type": "stream",
          "name": "stderr",
          "text": [
            "/usr/local/lib/python3.7/dist-packages/sklearn/model_selection/_split.py:680: UserWarning: The least populated class in y has only 1 members, which is less than n_splits=5.\n",
            "  UserWarning,\n",
            "/usr/local/lib/python3.7/dist-packages/sklearn/neural_network/_multilayer_perceptron.py:696: ConvergenceWarning: Stochastic Optimizer: Maximum iterations (200) reached and the optimization hasn't converged yet.\n",
            "  ConvergenceWarning,\n",
            "/usr/local/lib/python3.7/dist-packages/sklearn/neural_network/_multilayer_perceptron.py:696: ConvergenceWarning: Stochastic Optimizer: Maximum iterations (200) reached and the optimization hasn't converged yet.\n",
            "  ConvergenceWarning,\n",
            "/usr/local/lib/python3.7/dist-packages/sklearn/neural_network/_multilayer_perceptron.py:696: ConvergenceWarning: Stochastic Optimizer: Maximum iterations (200) reached and the optimization hasn't converged yet.\n",
            "  ConvergenceWarning,\n",
            "/usr/local/lib/python3.7/dist-packages/sklearn/neural_network/_multilayer_perceptron.py:696: ConvergenceWarning: Stochastic Optimizer: Maximum iterations (200) reached and the optimization hasn't converged yet.\n",
            "  ConvergenceWarning,\n",
            "/usr/local/lib/python3.7/dist-packages/sklearn/neural_network/_multilayer_perceptron.py:696: ConvergenceWarning: Stochastic Optimizer: Maximum iterations (200) reached and the optimization hasn't converged yet.\n",
            "  ConvergenceWarning,\n",
            "/usr/local/lib/python3.7/dist-packages/sklearn/neural_network/_multilayer_perceptron.py:696: ConvergenceWarning: Stochastic Optimizer: Maximum iterations (200) reached and the optimization hasn't converged yet.\n",
            "  ConvergenceWarning,\n",
            "/usr/local/lib/python3.7/dist-packages/sklearn/neural_network/_multilayer_perceptron.py:696: ConvergenceWarning: Stochastic Optimizer: Maximum iterations (200) reached and the optimization hasn't converged yet.\n",
            "  ConvergenceWarning,\n",
            "/usr/local/lib/python3.7/dist-packages/sklearn/neural_network/_multilayer_perceptron.py:696: ConvergenceWarning: Stochastic Optimizer: Maximum iterations (200) reached and the optimization hasn't converged yet.\n",
            "  ConvergenceWarning,\n",
            "/usr/local/lib/python3.7/dist-packages/sklearn/neural_network/_multilayer_perceptron.py:696: ConvergenceWarning: Stochastic Optimizer: Maximum iterations (200) reached and the optimization hasn't converged yet.\n",
            "  ConvergenceWarning,\n",
            "/usr/local/lib/python3.7/dist-packages/sklearn/neural_network/_multilayer_perceptron.py:696: ConvergenceWarning: Stochastic Optimizer: Maximum iterations (200) reached and the optimization hasn't converged yet.\n",
            "  ConvergenceWarning,\n",
            "/usr/local/lib/python3.7/dist-packages/sklearn/neural_network/_multilayer_perceptron.py:696: ConvergenceWarning: Stochastic Optimizer: Maximum iterations (200) reached and the optimization hasn't converged yet.\n",
            "  ConvergenceWarning,\n",
            "/usr/local/lib/python3.7/dist-packages/sklearn/neural_network/_multilayer_perceptron.py:696: ConvergenceWarning: Stochastic Optimizer: Maximum iterations (200) reached and the optimization hasn't converged yet.\n",
            "  ConvergenceWarning,\n"
          ]
        },
        {
          "output_type": "execute_result",
          "data": {
            "text/plain": [
              "GridSearchCV(estimator=MLPClassifier(),\n",
              "             param_grid={'activation': ['identity', 'logistic', 'tanh', 'relu'],\n",
              "                         'hidden_layer_sizes': [(100,), (7,)],\n",
              "                         'learning_rate_init': [0.001, 0.01, 0.1],\n",
              "                         'max_iter': [200, 1000, 5000, 10000]},\n",
              "             verbose=1)"
            ]
          },
          "metadata": {},
          "execution_count": 76
        }
      ]
    },
    {
      "cell_type": "code",
      "source": [
        "grid_temperatura72.best_params_"
      ],
      "metadata": {
        "colab": {
          "base_uri": "https://localhost:8080/"
        },
        "id": "5fleysmup7rp",
        "outputId": "e41bc6da-6890-4625-c4fa-5a52862676e0"
      },
      "execution_count": 77,
      "outputs": [
        {
          "output_type": "execute_result",
          "data": {
            "text/plain": [
              "{'activation': 'identity',\n",
              " 'hidden_layer_sizes': (100,),\n",
              " 'learning_rate_init': 0.001,\n",
              " 'max_iter': 5000}"
            ]
          },
          "metadata": {},
          "execution_count": 77
        }
      ]
    },
    {
      "cell_type": "code",
      "source": [
        "grid_temperatura72.best_score_"
      ],
      "metadata": {
        "colab": {
          "base_uri": "https://localhost:8080/"
        },
        "id": "0vJjT3GDqKw-",
        "outputId": "d00210a1-5faf-44c8-e872-807dbac4cf6f"
      },
      "execution_count": 78,
      "outputs": [
        {
          "output_type": "execute_result",
          "data": {
            "text/plain": [
              "0.6319976573378513"
            ]
          },
          "metadata": {},
          "execution_count": 78
        }
      ]
    },
    {
      "cell_type": "code",
      "source": [
        "pred_temperatura72 = grid_temperatura72.predict(X_test_temperatura72)\n",
        "print(metrics.classification_report(y_test_temperatura72,pred_temperatura72))"
      ],
      "metadata": {
        "colab": {
          "base_uri": "https://localhost:8080/"
        },
        "id": "Q78gCmoRqYM3",
        "outputId": "64587be6-eee8-4de3-b88a-1175b4362522"
      },
      "execution_count": 79,
      "outputs": [
        {
          "output_type": "stream",
          "name": "stdout",
          "text": [
            "              precision    recall  f1-score   support\n",
            "\n",
            "        28.0       0.00      0.00      0.00       309\n",
            "        29.0       0.64      1.00      0.78       907\n",
            "        30.0       0.00      0.00      0.00       209\n",
            "        31.0       0.00      0.00      0.00         1\n",
            "\n",
            "    accuracy                           0.64      1426\n",
            "   macro avg       0.16      0.25      0.19      1426\n",
            "weighted avg       0.40      0.64      0.49      1426\n",
            "\n"
          ]
        },
        {
          "output_type": "stream",
          "name": "stderr",
          "text": [
            "/usr/local/lib/python3.7/dist-packages/sklearn/metrics/_classification.py:1318: UndefinedMetricWarning: Precision and F-score are ill-defined and being set to 0.0 in labels with no predicted samples. Use `zero_division` parameter to control this behavior.\n",
            "  _warn_prf(average, modifier, msg_start, len(result))\n",
            "/usr/local/lib/python3.7/dist-packages/sklearn/metrics/_classification.py:1318: UndefinedMetricWarning: Precision and F-score are ill-defined and being set to 0.0 in labels with no predicted samples. Use `zero_division` parameter to control this behavior.\n",
            "  _warn_prf(average, modifier, msg_start, len(result))\n",
            "/usr/local/lib/python3.7/dist-packages/sklearn/metrics/_classification.py:1318: UndefinedMetricWarning: Precision and F-score are ill-defined and being set to 0.0 in labels with no predicted samples. Use `zero_division` parameter to control this behavior.\n",
            "  _warn_prf(average, modifier, msg_start, len(result))\n"
          ]
        }
      ]
    },
    {
      "cell_type": "markdown",
      "source": [
        "# Avaliação geral"
      ],
      "metadata": {
        "id": "TpcMo-H9k8_b"
      }
    },
    {
      "cell_type": "code",
      "metadata": {
        "id": "9eBoXwUhfltT",
        "colab": {
          "base_uri": "https://localhost:8080/"
        },
        "outputId": "0511182a-9981-4b98-b22f-97469bdc3024"
      },
      "source": [
        "import pandas as pd\n",
        "import matplotlib.pyplot as plt\n",
        "import seaborn as sns\n",
        "from datetime import datetime\n",
        "\n",
        "client_x = \"https://raw.githubusercontent.com/BiaChacon/prediction-service/master/client/data/client_x.csv\"\n",
        "client_y = \"https://raw.githubusercontent.com/BiaChacon/prediction-service/master/client/data/client_y.csv\"\n",
        "client_z = \"https://raw.githubusercontent.com/BiaChacon/prediction-service/master/client/data/client_z.csv\"\n",
        "\n",
        "\n",
        "\n",
        "\n",
        "\n",
        "\n",
        "x_1 = pd.read_csv(client_x)\n",
        "x_2 = pd.read_csv(client_x)\n",
        "\n",
        "y_1 = pd.read_csv(client_y)\n",
        "y_2 = pd.read_csv(client_y)\n",
        "\n",
        "z_1 = pd.read_csv(client_z)\n",
        "z_2 = pd.read_csv(client_z)\n",
        "\n",
        "# Setting the date in a string var...\n",
        "datetime_format = \"%d/%m/%Y %H:%M\"\n",
        "date_read = datetime.now()\n",
        "date_time_last = str(date_read.strftime(datetime_format))\n",
        "\n",
        "for i in range(len(x_1.datetime)):\n",
        "  datetime_in_string = x_1.datetime[i]\n",
        "  dt = datetime.strptime(datetime_in_string, datetime_format)\n",
        "  hora = dt.hour*60\n",
        "  t = hora+dt.minute\n",
        "  x_1.datetime[i] = t\n",
        "\n",
        "for i in range(len(y_1.datetime)):\n",
        "  datetime_in_string = y_1.datetime[i]\n",
        "  dt = datetime.strptime(datetime_in_string, datetime_format)\n",
        "  hora = dt.hour*60\n",
        "  t = hora+dt.minute\n",
        "  y_1.datetime[i] = t\n",
        "\n",
        "for i in range(len(z_1.datetime)):\n",
        "  datetime_in_string = z_1.datetime[i]\n",
        "  dt = datetime.strptime(datetime_in_string, datetime_format)\n",
        "  hora = dt.hour*60\n",
        "  t = hora+dt.minute\n",
        "  z_1.datetime[i] = t"
      ],
      "execution_count": null,
      "outputs": [
        {
          "output_type": "stream",
          "text": [
            "/usr/local/lib/python3.7/dist-packages/ipykernel_launcher.py:29: SettingWithCopyWarning: \n",
            "A value is trying to be set on a copy of a slice from a DataFrame\n",
            "\n",
            "See the caveats in the documentation: https://pandas.pydata.org/pandas-docs/stable/user_guide/indexing.html#returning-a-view-versus-a-copy\n",
            "/usr/local/lib/python3.7/dist-packages/ipykernel_launcher.py:36: SettingWithCopyWarning: \n",
            "A value is trying to be set on a copy of a slice from a DataFrame\n",
            "\n",
            "See the caveats in the documentation: https://pandas.pydata.org/pandas-docs/stable/user_guide/indexing.html#returning-a-view-versus-a-copy\n",
            "/usr/local/lib/python3.7/dist-packages/ipykernel_launcher.py:43: SettingWithCopyWarning: \n",
            "A value is trying to be set on a copy of a slice from a DataFrame\n",
            "\n",
            "See the caveats in the documentation: https://pandas.pydata.org/pandas-docs/stable/user_guide/indexing.html#returning-a-view-versus-a-copy\n"
          ],
          "name": "stderr"
        }
      ]
    },
    {
      "cell_type": "code",
      "metadata": {
        "colab": {
          "base_uri": "https://localhost:8080/",
          "height": 173
        },
        "id": "MMk9iEKyC4XP",
        "outputId": "a6e9bde7-1e32-42c0-ee9f-babc6b50dec6"
      },
      "source": [
        "x_1.corr()"
      ],
      "execution_count": null,
      "outputs": [
        {
          "output_type": "execute_result",
          "data": {
            "text/html": [
              "<div>\n",
              "<style scoped>\n",
              "    .dataframe tbody tr th:only-of-type {\n",
              "        vertical-align: middle;\n",
              "    }\n",
              "\n",
              "    .dataframe tbody tr th {\n",
              "        vertical-align: top;\n",
              "    }\n",
              "\n",
              "    .dataframe thead th {\n",
              "        text-align: right;\n",
              "    }\n",
              "</style>\n",
              "<table border=\"1\" class=\"dataframe\">\n",
              "  <thead>\n",
              "    <tr style=\"text-align: right;\">\n",
              "      <th></th>\n",
              "      <th>temperature real</th>\n",
              "      <th>temperature predict</th>\n",
              "      <th>humidity real</th>\n",
              "      <th>humidity predict</th>\n",
              "    </tr>\n",
              "  </thead>\n",
              "  <tbody>\n",
              "    <tr>\n",
              "      <th>temperature real</th>\n",
              "      <td>1.000000</td>\n",
              "      <td>0.397653</td>\n",
              "      <td>-0.987668</td>\n",
              "      <td>0.061959</td>\n",
              "    </tr>\n",
              "    <tr>\n",
              "      <th>temperature predict</th>\n",
              "      <td>0.397653</td>\n",
              "      <td>1.000000</td>\n",
              "      <td>-0.395343</td>\n",
              "      <td>0.462533</td>\n",
              "    </tr>\n",
              "    <tr>\n",
              "      <th>humidity real</th>\n",
              "      <td>-0.987668</td>\n",
              "      <td>-0.395343</td>\n",
              "      <td>1.000000</td>\n",
              "      <td>-0.063518</td>\n",
              "    </tr>\n",
              "    <tr>\n",
              "      <th>humidity predict</th>\n",
              "      <td>0.061959</td>\n",
              "      <td>0.462533</td>\n",
              "      <td>-0.063518</td>\n",
              "      <td>1.000000</td>\n",
              "    </tr>\n",
              "  </tbody>\n",
              "</table>\n",
              "</div>"
            ],
            "text/plain": [
              "                     temperature real  ...  humidity predict\n",
              "temperature real             1.000000  ...          0.061959\n",
              "temperature predict          0.397653  ...          0.462533\n",
              "humidity real               -0.987668  ...         -0.063518\n",
              "humidity predict             0.061959  ...          1.000000\n",
              "\n",
              "[4 rows x 4 columns]"
            ]
          },
          "metadata": {
            "tags": []
          },
          "execution_count": 13
        }
      ]
    },
    {
      "cell_type": "code",
      "metadata": {
        "colab": {
          "base_uri": "https://localhost:8080/",
          "height": 173
        },
        "id": "NdbXUbDGDVKF",
        "outputId": "4aaf579a-c8aa-42a8-c078-ab4314371e7e"
      },
      "source": [
        "y_1.corr()"
      ],
      "execution_count": null,
      "outputs": [
        {
          "output_type": "execute_result",
          "data": {
            "text/html": [
              "<div>\n",
              "<style scoped>\n",
              "    .dataframe tbody tr th:only-of-type {\n",
              "        vertical-align: middle;\n",
              "    }\n",
              "\n",
              "    .dataframe tbody tr th {\n",
              "        vertical-align: top;\n",
              "    }\n",
              "\n",
              "    .dataframe thead th {\n",
              "        text-align: right;\n",
              "    }\n",
              "</style>\n",
              "<table border=\"1\" class=\"dataframe\">\n",
              "  <thead>\n",
              "    <tr style=\"text-align: right;\">\n",
              "      <th></th>\n",
              "      <th>temperature real</th>\n",
              "      <th>temperature predict</th>\n",
              "      <th>humidity real</th>\n",
              "      <th>humidity predict</th>\n",
              "    </tr>\n",
              "  </thead>\n",
              "  <tbody>\n",
              "    <tr>\n",
              "      <th>temperature real</th>\n",
              "      <td>1.000000</td>\n",
              "      <td>0.763653</td>\n",
              "      <td>-0.790844</td>\n",
              "      <td>-0.420375</td>\n",
              "    </tr>\n",
              "    <tr>\n",
              "      <th>temperature predict</th>\n",
              "      <td>0.763653</td>\n",
              "      <td>1.000000</td>\n",
              "      <td>-0.667431</td>\n",
              "      <td>-0.508260</td>\n",
              "    </tr>\n",
              "    <tr>\n",
              "      <th>humidity real</th>\n",
              "      <td>-0.790844</td>\n",
              "      <td>-0.667431</td>\n",
              "      <td>1.000000</td>\n",
              "      <td>0.514975</td>\n",
              "    </tr>\n",
              "    <tr>\n",
              "      <th>humidity predict</th>\n",
              "      <td>-0.420375</td>\n",
              "      <td>-0.508260</td>\n",
              "      <td>0.514975</td>\n",
              "      <td>1.000000</td>\n",
              "    </tr>\n",
              "  </tbody>\n",
              "</table>\n",
              "</div>"
            ],
            "text/plain": [
              "                     temperature real  ...  humidity predict\n",
              "temperature real             1.000000  ...         -0.420375\n",
              "temperature predict          0.763653  ...         -0.508260\n",
              "humidity real               -0.790844  ...          0.514975\n",
              "humidity predict            -0.420375  ...          1.000000\n",
              "\n",
              "[4 rows x 4 columns]"
            ]
          },
          "metadata": {
            "tags": []
          },
          "execution_count": 6
        }
      ]
    },
    {
      "cell_type": "code",
      "metadata": {
        "colab": {
          "base_uri": "https://localhost:8080/",
          "height": 173
        },
        "id": "8-ASNDkaDhZ1",
        "outputId": "33798c7f-6788-4cde-b374-4c02c0454e62"
      },
      "source": [
        "z_1.corr()"
      ],
      "execution_count": null,
      "outputs": [
        {
          "output_type": "execute_result",
          "data": {
            "text/html": [
              "<div>\n",
              "<style scoped>\n",
              "    .dataframe tbody tr th:only-of-type {\n",
              "        vertical-align: middle;\n",
              "    }\n",
              "\n",
              "    .dataframe tbody tr th {\n",
              "        vertical-align: top;\n",
              "    }\n",
              "\n",
              "    .dataframe thead th {\n",
              "        text-align: right;\n",
              "    }\n",
              "</style>\n",
              "<table border=\"1\" class=\"dataframe\">\n",
              "  <thead>\n",
              "    <tr style=\"text-align: right;\">\n",
              "      <th></th>\n",
              "      <th>temperature real</th>\n",
              "      <th>temperature predict</th>\n",
              "      <th>humidity real</th>\n",
              "      <th>humidity predict</th>\n",
              "    </tr>\n",
              "  </thead>\n",
              "  <tbody>\n",
              "    <tr>\n",
              "      <th>temperature real</th>\n",
              "      <td>1.000000</td>\n",
              "      <td>0.163673</td>\n",
              "      <td>-0.988979</td>\n",
              "      <td>0.732196</td>\n",
              "    </tr>\n",
              "    <tr>\n",
              "      <th>temperature predict</th>\n",
              "      <td>0.163673</td>\n",
              "      <td>1.000000</td>\n",
              "      <td>-0.150679</td>\n",
              "      <td>0.582622</td>\n",
              "    </tr>\n",
              "    <tr>\n",
              "      <th>humidity real</th>\n",
              "      <td>-0.988979</td>\n",
              "      <td>-0.150679</td>\n",
              "      <td>1.000000</td>\n",
              "      <td>-0.737385</td>\n",
              "    </tr>\n",
              "    <tr>\n",
              "      <th>humidity predict</th>\n",
              "      <td>0.732196</td>\n",
              "      <td>0.582622</td>\n",
              "      <td>-0.737385</td>\n",
              "      <td>1.000000</td>\n",
              "    </tr>\n",
              "  </tbody>\n",
              "</table>\n",
              "</div>"
            ],
            "text/plain": [
              "                     temperature real  ...  humidity predict\n",
              "temperature real             1.000000  ...          0.732196\n",
              "temperature predict          0.163673  ...          0.582622\n",
              "humidity real               -0.988979  ...         -0.737385\n",
              "humidity predict             0.732196  ...          1.000000\n",
              "\n",
              "[4 rows x 4 columns]"
            ]
          },
          "metadata": {
            "tags": []
          },
          "execution_count": 7
        }
      ]
    },
    {
      "cell_type": "code",
      "metadata": {
        "colab": {
          "base_uri": "https://localhost:8080/",
          "height": 378
        },
        "id": "zN3GNTMwE2N-",
        "outputId": "f769de3f-ccca-4be5-865a-48a1319f2c84"
      },
      "source": [
        "sns.heatmap(y_1.corr(), annot=True)"
      ],
      "execution_count": null,
      "outputs": [
        {
          "output_type": "execute_result",
          "data": {
            "text/plain": [
              "<matplotlib.axes._subplots.AxesSubplot at 0x7fa37976c850>"
            ]
          },
          "metadata": {
            "tags": []
          },
          "execution_count": 12
        },
        {
          "output_type": "display_data",
          "data": {
            "image/png": "[encoded data removed]",
            "text/plain": [
              "<Figure size 432x288 with 2 Axes>"
            ]
          },
          "metadata": {
            "tags": [],
            "needs_background": "light"
          }
        }
      ]
    },
    {
      "cell_type": "code",
      "metadata": {
        "colab": {
          "base_uri": "https://localhost:8080/",
          "height": 350
        },
        "id": "o-nsMdAKGd4H",
        "outputId": "9aa6a43e-8cc8-4a1b-df74-c4d325b99c77"
      },
      "source": [
        "fig = plt.figure()\n",
        "\n",
        "plt.plot(x_2.datetime, x_2['temperature real'], label='Real');\n",
        "\n",
        "plt.plot(x_2.datetime, x_2['temperature predict'], label='Predição');\n",
        "\n",
        "plt.xlabel('Hora')\n",
        "plt.ylabel('temperatura')\n",
        "\n",
        "plt.title(\"Cliente X - Temperatura\")\n",
        "\n",
        "plt.legend()\n",
        "\n",
        "fig.set_size_inches(10, 5)\n",
        "plt.show()"
      ],
      "execution_count": null,
      "outputs": [
        {
          "output_type": "display_data",
          "data": {
            "image/png": "[encoded data removed]",
            "text/plain": [
              "<Figure size 720x360 with 1 Axes>"
            ]
          },
          "metadata": {
            "tags": [],
            "needs_background": "light"
          }
        }
      ]
    },
    {
      "cell_type": "code",
      "metadata": {
        "colab": {
          "base_uri": "https://localhost:8080/",
          "height": 350
        },
        "id": "Uf6u9uZvGi0x",
        "outputId": "03a16120-dbfe-4e4a-c688-dfc3b76ef21e"
      },
      "source": [
        "fig = plt.figure()\n",
        "\n",
        "plt.plot(x_1.datetime, x_1['temperature real'], 'o', label='Real');\n",
        "\n",
        "plt.plot(x_1.datetime, x_1['temperature predict'], 'o', label='Predição');\n",
        "\n",
        "plt.xlabel('Hora')\n",
        "plt.ylabel('Temperatura')\n",
        "\n",
        "plt.title(\"Cliente X - Temperatura\")\n",
        "\n",
        "plt.legend()\n",
        "\n",
        "fig.set_size_inches(10, 5)\n",
        "plt.show()"
      ],
      "execution_count": null,
      "outputs": [
        {
          "output_type": "display_data",
          "data": {
            "image/png": "[encoded data removed]",
            "text/plain": [
              "<Figure size 720x360 with 1 Axes>"
            ]
          },
          "metadata": {
            "tags": [],
            "needs_background": "light"
          }
        }
      ]
    },
    {
      "cell_type": "code",
      "metadata": {
        "colab": {
          "base_uri": "https://localhost:8080/",
          "height": 350
        },
        "id": "si-OYZXsGsn4",
        "outputId": "b30b024a-4f08-48a1-ce81-2c80c1cc294f"
      },
      "source": [
        "fig = plt.figure()\n",
        "\n",
        "plt.plot(x_2.datetime, x_2['humidity real'], label='Real');\n",
        "\n",
        "plt.plot(x_2.datetime, x_2['humidity predict'], label='Predição');\n",
        "\n",
        "plt.ylabel('umidade')\n",
        "plt.xlabel('Hora')\n",
        "\n",
        "plt.title(\"Cliente X - Umidade\")\n",
        "\n",
        "plt.legend()\n",
        "\n",
        "fig.set_size_inches(10, 5)\n",
        "plt.show()"
      ],
      "execution_count": null,
      "outputs": [
        {
          "output_type": "display_data",
          "data": {
            "image/png": "[encoded data removed]",
            "text/plain": [
              "<Figure size 720x360 with 1 Axes>"
            ]
          },
          "metadata": {
            "tags": [],
            "needs_background": "light"
          }
        }
      ]
    },
    {
      "cell_type": "code",
      "metadata": {
        "colab": {
          "base_uri": "https://localhost:8080/",
          "height": 350
        },
        "id": "k1-B7sqMG8pX",
        "outputId": "12a7c21d-e0ee-424a-cd7d-f90290236382"
      },
      "source": [
        "fig = plt.figure()\n",
        "\n",
        "plt.plot(x_1.datetime, x_1['humidity real'], 'o', label='Real');\n",
        "\n",
        "plt.plot(x_1.datetime, x_1['humidity predict'], 'o', label='Predição');\n",
        "\n",
        "plt.xlabel('Umidade')\n",
        "plt.ylabel('Hora')\n",
        "\n",
        "plt.title(\"Cliente X - Umidade\")\n",
        "\n",
        "plt.legend()\n",
        "\n",
        "fig.set_size_inches(10, 5)\n",
        "plt.show()"
      ],
      "execution_count": null,
      "outputs": [
        {
          "output_type": "display_data",
          "data": {
            "image/png": "[encoded data removed]",
            "text/plain": [
              "<Figure size 720x360 with 1 Axes>"
            ]
          },
          "metadata": {
            "tags": [],
            "needs_background": "light"
          }
        }
      ]
    },
    {
      "cell_type": "code",
      "metadata": {
        "colab": {
          "base_uri": "https://localhost:8080/",
          "height": 350
        },
        "id": "KppM8vKTf68S",
        "outputId": "33e94fc7-7504-49cd-f9a1-3345f25ef82e"
      },
      "source": [
        "fig = plt.figure()\n",
        "\n",
        "plt.plot(y_2.datetime, y_2['temperature real'], label='Real');\n",
        "\n",
        "plt.plot(y_2.datetime, y_2['temperature predict'], label='Predição');\n",
        "\n",
        "plt.ylabel('temperatura')\n",
        "plt.xlabel('Hora')\n",
        "\n",
        "plt.title(\"Cliente Y - Temperatura\")\n",
        "\n",
        "plt.legend()\n",
        "\n",
        "fig.set_size_inches(10, 5)\n",
        "plt.show()"
      ],
      "execution_count": null,
      "outputs": [
        {
          "output_type": "display_data",
          "data": {
            "image/png": "[encoded data removed]",
            "text/plain": [
              "<Figure size 720x360 with 1 Axes>"
            ]
          },
          "metadata": {
            "tags": [],
            "needs_background": "light"
          }
        }
      ]
    },
    {
      "cell_type": "code",
      "metadata": {
        "colab": {
          "base_uri": "https://localhost:8080/",
          "height": 350
        },
        "id": "UeOX12lvT8es",
        "outputId": "f7357340-51f4-416c-8a01-cb17af7f111b"
      },
      "source": [
        "fig = plt.figure()\n",
        "\n",
        "plt.plot(y_1.datetime, y_1['temperature real'], 'o', label='Real');\n",
        "\n",
        "plt.plot(y_1.datetime, y_1['temperature predict'], 'o', label='Predição');\n",
        "\n",
        "plt.xlabel('Temperatura')\n",
        "plt.ylabel('Hora')\n",
        "\n",
        "plt.title(\"Cliente Y - Temperatura\")\n",
        "\n",
        "plt.legend()\n",
        "\n",
        "fig.set_size_inches(10, 5)\n",
        "plt.show()"
      ],
      "execution_count": null,
      "outputs": [
        {
          "output_type": "display_data",
          "data": {
            "image/png": "[encoded data removed]",
            "text/plain": [
              "<Figure size 720x360 with 1 Axes>"
            ]
          },
          "metadata": {
            "tags": [],
            "needs_background": "light"
          }
        }
      ]
    },
    {
      "cell_type": "code",
      "metadata": {
        "colab": {
          "base_uri": "https://localhost:8080/",
          "height": 350
        },
        "id": "Y_RtqOJYmjnH",
        "outputId": "0617c88f-1a53-434b-da29-15cb3d490b43"
      },
      "source": [
        "fig = plt.figure()\n",
        "\n",
        "plt.plot(y_2.datetime, y_2['humidity real'], label='Real');\n",
        "\n",
        "plt.plot(y_2.datetime, y_2['humidity predict'], label='Predição');\n",
        "\n",
        "plt.ylabel('umidade')\n",
        "plt.xlabel('Hora')\n",
        "\n",
        "plt.title(\"Cliente Y - Umidade\")\n",
        "\n",
        "plt.legend()\n",
        "\n",
        "fig.set_size_inches(10, 5)\n",
        "plt.show()"
      ],
      "execution_count": null,
      "outputs": [
        {
          "output_type": "display_data",
          "data": {
            "image/png": "[encoded data removed]",
            "text/plain": [
              "<Figure size 720x360 with 1 Axes>"
            ]
          },
          "metadata": {
            "tags": [],
            "needs_background": "light"
          }
        }
      ]
    },
    {
      "cell_type": "code",
      "metadata": {
        "colab": {
          "base_uri": "https://localhost:8080/",
          "height": 350
        },
        "id": "391jz4tMUaxw",
        "outputId": "af45a474-09b3-4370-c6b7-4c8dda4aa371"
      },
      "source": [
        "fig = plt.figure()\n",
        "\n",
        "plt.plot(y_1.datetime, y_1['humidity real'], 'o', label='Real');\n",
        "\n",
        "plt.plot(y_1.datetime, y_1['humidity predict'], 'o', label='Predição');\n",
        "\n",
        "plt.xlabel('Umidade')\n",
        "plt.ylabel('Hora')\n",
        "\n",
        "plt.title(\"Cliente Y - Umidade\")\n",
        "\n",
        "plt.legend()\n",
        "\n",
        "fig.set_size_inches(10, 5)\n",
        "plt.show()"
      ],
      "execution_count": null,
      "outputs": [
        {
          "output_type": "display_data",
          "data": {
            "image/png": "[encoded data removed]",
            "text/plain": [
              "<Figure size 720x360 with 1 Axes>"
            ]
          },
          "metadata": {
            "tags": [],
            "needs_background": "light"
          }
        }
      ]
    },
    {
      "cell_type": "code",
      "metadata": {
        "colab": {
          "base_uri": "https://localhost:8080/",
          "height": 350
        },
        "id": "GmNrAQSzjcUU",
        "outputId": "6811945d-dc70-4545-b74c-5ed5c1bd82b7"
      },
      "source": [
        "fig = plt.figure()\n",
        "\n",
        "plt.plot(z_2.datetime, z_2['temperature real'], label='Real');\n",
        "\n",
        "plt.plot(z_2.datetime, z_2['temperature predict'], label='Predição');\n",
        "\n",
        "plt.xlabel('Hora')\n",
        "plt.ylabel('temperatura')\n",
        "\n",
        "plt.title(\"Cliente Z - Temperatura\")\n",
        "\n",
        "plt.legend()\n",
        "\n",
        "fig.set_size_inches(10, 5)\n",
        "plt.show()"
      ],
      "execution_count": null,
      "outputs": [
        {
          "output_type": "display_data",
          "data": {
            "image/png": "[encoded data removed]",
            "text/plain": [
              "<Figure size 720x360 with 1 Axes>"
            ]
          },
          "metadata": {
            "tags": [],
            "needs_background": "light"
          }
        }
      ]
    },
    {
      "cell_type": "code",
      "metadata": {
        "colab": {
          "base_uri": "https://localhost:8080/",
          "height": 621
        },
        "id": "bT1w11KpTbyr",
        "outputId": "c7eef30e-db50-49c7-8245-6dd8f8eb0b5a"
      },
      "source": [
        "fig = plt.figure()\n",
        "\n",
        "plt.plot(z_1.datetime, z_1['temperature real'],'o', label='Real');\n",
        "\n",
        "plt.plot(z_1.datetime, z_1['temperature predict'], 'o', label='Predição');\n",
        "\n",
        "plt.xlabel('Hora')\n",
        "plt.ylabel('Temperatura')\n",
        "\n",
        "plt.title(\"Cliente Z - Temperatura\")\n",
        "\n",
        "plt.legend()\n",
        "\n",
        "fig.set_size_inches(20, 10)\n",
        "plt.show()"
      ],
      "execution_count": null,
      "outputs": [
        {
          "output_type": "display_data",
          "data": {
            "image/png": "[encoded data removed]",
            "text/plain": [
              "<Figure size 1440x720 with 1 Axes>"
            ]
          },
          "metadata": {
            "tags": [],
            "needs_background": "light"
          }
        }
      ]
    },
    {
      "cell_type": "code",
      "metadata": {
        "colab": {
          "base_uri": "https://localhost:8080/",
          "height": 350
        },
        "id": "FeKJY_AJVFdG",
        "outputId": "625edd32-d356-4b34-fd75-5784e22a9555"
      },
      "source": [
        "fig = plt.figure()\n",
        "\n",
        "plt.plot(z_2.datetime, z_2['humidity real'], label='Real');\n",
        "\n",
        "plt.plot(z_2.datetime, z_2['humidity predict'], label='Predição');\n",
        "\n",
        "plt.xlabel('Hora')\n",
        "plt.ylabel('umidade')\n",
        "\n",
        "plt.title(\"Cliente Z - Umidade\")\n",
        "\n",
        "plt.legend()\n",
        "\n",
        "fig.set_size_inches(10, 5)\n",
        "plt.show()"
      ],
      "execution_count": null,
      "outputs": [
        {
          "output_type": "display_data",
          "data": {
            "image/png": "[encoded data removed]",
            "text/plain": [
              "<Figure size 720x360 with 1 Axes>"
            ]
          },
          "metadata": {
            "tags": [],
            "needs_background": "light"
          }
        }
      ]
    },
    {
      "cell_type": "code",
      "metadata": {
        "colab": {
          "base_uri": "https://localhost:8080/",
          "height": 621
        },
        "id": "6v_UmzqAm1jX",
        "outputId": "e4d63c6c-21b2-4078-9fb5-06e578e3f9ec"
      },
      "source": [
        "fig = plt.figure()\n",
        "\n",
        "plt.plot(z_1.datetime, z_1['humidity real'], 'o', label='Real');\n",
        "\n",
        "plt.plot(z_1.datetime, z_1['humidity predict'], 'o', label='Predição');\n",
        "\n",
        "plt.xlabel('Hora')\n",
        "plt.ylabel('Umidade')\n",
        "\n",
        "plt.title(\"Cliente Z - Umidade\")\n",
        "\n",
        "plt.legend()\n",
        "\n",
        "fig.set_size_inches(20, 10)\n",
        "plt.show()"
      ],
      "execution_count": null,
      "outputs": [
        {
          "output_type": "display_data",
          "data": {
            "image/png": "[encoded data removed]",
            "text/plain": [
              "<Figure size 1440x720 with 1 Axes>"
            ]
          },
          "metadata": {
            "tags": [],
            "needs_background": "light"
          }
        }
      ]
    },
    {
      "cell_type": "markdown",
      "source": [
        ""
      ],
      "metadata": {
        "id": "WP3Un5dWkzT0"
      }
    }
  ]
}